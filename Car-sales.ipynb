{
  "nbformat": 4,
  "nbformat_minor": 0,
  "metadata": {
    "colab": {
      "name": "BAoAI#HW1.ipynb",
      "provenance": [],
      "collapsed_sections": []
    },
    "kernelspec": {
      "name": "python3",
      "display_name": "Python 3"
    }
  },
  "cells": [
    {
      "cell_type": "code",
      "metadata": {
        "colab": {
          "base_uri": "https://localhost:8080/"
        },
        "id": "liJNfCKAHRSh",
        "outputId": "ef68291e-d9a1-4f62-d8c3-16f64c1a8082"
      },
      "source": [
        "from google.colab import drive\n",
        "drive.mount('/content/drive')"
      ],
      "execution_count": 133,
      "outputs": [
        {
          "output_type": "stream",
          "text": [
            "Drive already mounted at /content/drive; to attempt to forcibly remount, call drive.mount(\"/content/drive\", force_remount=True).\n"
          ],
          "name": "stdout"
        }
      ]
    },
    {
      "cell_type": "code",
      "metadata": {
        "colab": {
          "base_uri": "https://localhost:8080/"
        },
        "id": "6wj2JLYyH9BL",
        "outputId": "804532d6-252b-4570-e8a2-d0d7865ac5c0"
      },
      "source": [
        "!ls /content/drive/My\\ Drive/Colab\\ Notebooks"
      ],
      "execution_count": 134,
      "outputs": [
        {
          "output_type": "stream",
          "text": [
            " BAoAI#HW1.ipynb\n",
            "'#class3.ipynb'\n",
            " Lecture2_coding.ipynb\n",
            " literary_birth_rate.csv\n",
            " sales.csv\n",
            "'sfo cust sat 2014 data file_WEIGHTED_flysfo.xlsx'\n",
            "'sfo cust sat 2015_data file_final_WEIGHTED_flysfo.csv'\n",
            " ToyotaCorolla.csv\n",
            " Untitled0.ipynb\n",
            " user_device.csv\n",
            " user_usage.csv\n"
          ],
          "name": "stdout"
        }
      ]
    },
    {
      "cell_type": "code",
      "metadata": {
        "colab": {
          "base_uri": "https://localhost:8080/"
        },
        "id": "hwuaBLwaH9MB",
        "outputId": "55c93b1e-6d34-4ac1-95f4-747e6c066968"
      },
      "source": [
        "import os\n",
        "os.chdir('/content/drive/My Drive/Colab Notebooks')\n",
        "print(os.getcwd())"
      ],
      "execution_count": 135,
      "outputs": [
        {
          "output_type": "stream",
          "text": [
            "/content/drive/My Drive/Colab Notebooks\n"
          ],
          "name": "stdout"
        }
      ]
    },
    {
      "cell_type": "code",
      "metadata": {
        "id": "atgrvj7RH9PX"
      },
      "source": [
        "import numpy as np\n",
        "import pandas as pd\n",
        "import matplotlib.pyplot as plt\n",
        "import warnings \n",
        "warnings.filterwarnings(\"ignore\")"
      ],
      "execution_count": 136,
      "outputs": []
    },
    {
      "cell_type": "markdown",
      "metadata": {
        "id": "V-fqBT9PLkvH"
      },
      "source": [
        "Importing Keras Libraries and Packages"
      ]
    },
    {
      "cell_type": "code",
      "metadata": {
        "id": "xEYEXdFrLhti"
      },
      "source": [
        "import keras\n",
        "from keras.models import Sequential\n",
        "from keras.layers import Dense\n",
        "import seaborn \n",
        "import seaborn as sns # visualization"
      ],
      "execution_count": 137,
      "outputs": []
    },
    {
      "cell_type": "markdown",
      "metadata": {
        "id": "wNPVzc1DMObi"
      },
      "source": [
        "To control the Randomness following packages has been imported\n"
      ]
    },
    {
      "cell_type": "code",
      "metadata": {
        "id": "JRI_U6uXMWCp"
      },
      "source": [
        "from numpy.random import seed\n",
        "seed(1)\n",
        "from tensorflow import random\n",
        "random.set_seed(20)"
      ],
      "execution_count": 138,
      "outputs": []
    },
    {
      "cell_type": "markdown",
      "metadata": {
        "id": "8p3Y7NgYiAQX"
      },
      "source": [
        "Importing the dataset\n"
      ]
    },
    {
      "cell_type": "code",
      "metadata": {
        "colab": {
          "base_uri": "https://localhost:8080/",
          "height": 1000
        },
        "id": "ww7yGAO6f4mF",
        "outputId": "3b501485-1e8a-4df4-a4ca-1bd4083e7bc9"
      },
      "source": [
        "toyota= pd.read_csv('ToyotaCorolla.csv')\n",
        "toyota"
      ],
      "execution_count": 139,
      "outputs": [
        {
          "output_type": "execute_result",
          "data": {
            "text/html": [
              "<div>\n",
              "<style scoped>\n",
              "    .dataframe tbody tr th:only-of-type {\n",
              "        vertical-align: middle;\n",
              "    }\n",
              "\n",
              "    .dataframe tbody tr th {\n",
              "        vertical-align: top;\n",
              "    }\n",
              "\n",
              "    .dataframe thead th {\n",
              "        text-align: right;\n",
              "    }\n",
              "</style>\n",
              "<table border=\"1\" class=\"dataframe\">\n",
              "  <thead>\n",
              "    <tr style=\"text-align: right;\">\n",
              "      <th></th>\n",
              "      <th>Id</th>\n",
              "      <th>Model</th>\n",
              "      <th>Price</th>\n",
              "      <th>Age_08_04</th>\n",
              "      <th>Mfg_Month</th>\n",
              "      <th>Mfg_Year</th>\n",
              "      <th>KM</th>\n",
              "      <th>Fuel_Type</th>\n",
              "      <th>HP</th>\n",
              "      <th>Met_Color</th>\n",
              "      <th>Color</th>\n",
              "      <th>Automatic</th>\n",
              "      <th>CC</th>\n",
              "      <th>Doors</th>\n",
              "      <th>Cylinders</th>\n",
              "      <th>Gears</th>\n",
              "      <th>Quarterly_Tax</th>\n",
              "      <th>Weight</th>\n",
              "      <th>Mfr_Guarantee</th>\n",
              "      <th>BOVAG_Guarantee</th>\n",
              "      <th>Guarantee_Period</th>\n",
              "      <th>ABS</th>\n",
              "      <th>Airbag_1</th>\n",
              "      <th>Airbag_2</th>\n",
              "      <th>Airco</th>\n",
              "      <th>Automatic_airco</th>\n",
              "      <th>Boardcomputer</th>\n",
              "      <th>CD_Player</th>\n",
              "      <th>Central_Lock</th>\n",
              "      <th>Powered_Windows</th>\n",
              "      <th>Power_Steering</th>\n",
              "      <th>Radio</th>\n",
              "      <th>Mistlamps</th>\n",
              "      <th>Sport_Model</th>\n",
              "      <th>Backseat_Divider</th>\n",
              "      <th>Metallic_Rim</th>\n",
              "      <th>Radio_cassette</th>\n",
              "      <th>Parking_Assistant</th>\n",
              "      <th>Tow_Bar</th>\n",
              "    </tr>\n",
              "  </thead>\n",
              "  <tbody>\n",
              "    <tr>\n",
              "      <th>0</th>\n",
              "      <td>1</td>\n",
              "      <td>TOYOTA Corolla 2.0 D4D HATCHB TERRA 2/3-Doors</td>\n",
              "      <td>13500</td>\n",
              "      <td>23</td>\n",
              "      <td>10</td>\n",
              "      <td>2002</td>\n",
              "      <td>46986</td>\n",
              "      <td>Diesel</td>\n",
              "      <td>90</td>\n",
              "      <td>1</td>\n",
              "      <td>Blue</td>\n",
              "      <td>0</td>\n",
              "      <td>2000</td>\n",
              "      <td>3</td>\n",
              "      <td>4</td>\n",
              "      <td>5</td>\n",
              "      <td>210</td>\n",
              "      <td>1165</td>\n",
              "      <td>0</td>\n",
              "      <td>1</td>\n",
              "      <td>3</td>\n",
              "      <td>1</td>\n",
              "      <td>1</td>\n",
              "      <td>1</td>\n",
              "      <td>0</td>\n",
              "      <td>0</td>\n",
              "      <td>1</td>\n",
              "      <td>0</td>\n",
              "      <td>1</td>\n",
              "      <td>1</td>\n",
              "      <td>1</td>\n",
              "      <td>0</td>\n",
              "      <td>0</td>\n",
              "      <td>0</td>\n",
              "      <td>1</td>\n",
              "      <td>0</td>\n",
              "      <td>0</td>\n",
              "      <td>0</td>\n",
              "      <td>0</td>\n",
              "    </tr>\n",
              "    <tr>\n",
              "      <th>1</th>\n",
              "      <td>2</td>\n",
              "      <td>TOYOTA Corolla 2.0 D4D HATCHB TERRA 2/3-Doors</td>\n",
              "      <td>13750</td>\n",
              "      <td>23</td>\n",
              "      <td>10</td>\n",
              "      <td>2002</td>\n",
              "      <td>72937</td>\n",
              "      <td>Diesel</td>\n",
              "      <td>90</td>\n",
              "      <td>1</td>\n",
              "      <td>Silver</td>\n",
              "      <td>0</td>\n",
              "      <td>2000</td>\n",
              "      <td>3</td>\n",
              "      <td>4</td>\n",
              "      <td>5</td>\n",
              "      <td>210</td>\n",
              "      <td>1165</td>\n",
              "      <td>0</td>\n",
              "      <td>1</td>\n",
              "      <td>3</td>\n",
              "      <td>1</td>\n",
              "      <td>1</td>\n",
              "      <td>1</td>\n",
              "      <td>1</td>\n",
              "      <td>0</td>\n",
              "      <td>1</td>\n",
              "      <td>1</td>\n",
              "      <td>1</td>\n",
              "      <td>0</td>\n",
              "      <td>1</td>\n",
              "      <td>0</td>\n",
              "      <td>0</td>\n",
              "      <td>0</td>\n",
              "      <td>1</td>\n",
              "      <td>0</td>\n",
              "      <td>0</td>\n",
              "      <td>0</td>\n",
              "      <td>0</td>\n",
              "    </tr>\n",
              "    <tr>\n",
              "      <th>2</th>\n",
              "      <td>3</td>\n",
              "      <td>TOYOTA Corolla 2.0 D4D HATCHB TERRA 2/3-Doors</td>\n",
              "      <td>13950</td>\n",
              "      <td>24</td>\n",
              "      <td>9</td>\n",
              "      <td>2002</td>\n",
              "      <td>41711</td>\n",
              "      <td>Diesel</td>\n",
              "      <td>90</td>\n",
              "      <td>1</td>\n",
              "      <td>Blue</td>\n",
              "      <td>0</td>\n",
              "      <td>2000</td>\n",
              "      <td>3</td>\n",
              "      <td>4</td>\n",
              "      <td>5</td>\n",
              "      <td>210</td>\n",
              "      <td>1165</td>\n",
              "      <td>1</td>\n",
              "      <td>1</td>\n",
              "      <td>3</td>\n",
              "      <td>1</td>\n",
              "      <td>1</td>\n",
              "      <td>1</td>\n",
              "      <td>0</td>\n",
              "      <td>0</td>\n",
              "      <td>1</td>\n",
              "      <td>0</td>\n",
              "      <td>0</td>\n",
              "      <td>0</td>\n",
              "      <td>1</td>\n",
              "      <td>0</td>\n",
              "      <td>0</td>\n",
              "      <td>0</td>\n",
              "      <td>1</td>\n",
              "      <td>0</td>\n",
              "      <td>0</td>\n",
              "      <td>0</td>\n",
              "      <td>0</td>\n",
              "    </tr>\n",
              "    <tr>\n",
              "      <th>3</th>\n",
              "      <td>4</td>\n",
              "      <td>TOYOTA Corolla 2.0 D4D HATCHB TERRA 2/3-Doors</td>\n",
              "      <td>14950</td>\n",
              "      <td>26</td>\n",
              "      <td>7</td>\n",
              "      <td>2002</td>\n",
              "      <td>48000</td>\n",
              "      <td>Diesel</td>\n",
              "      <td>90</td>\n",
              "      <td>0</td>\n",
              "      <td>Black</td>\n",
              "      <td>0</td>\n",
              "      <td>2000</td>\n",
              "      <td>3</td>\n",
              "      <td>4</td>\n",
              "      <td>5</td>\n",
              "      <td>210</td>\n",
              "      <td>1165</td>\n",
              "      <td>1</td>\n",
              "      <td>1</td>\n",
              "      <td>3</td>\n",
              "      <td>1</td>\n",
              "      <td>1</td>\n",
              "      <td>1</td>\n",
              "      <td>0</td>\n",
              "      <td>0</td>\n",
              "      <td>1</td>\n",
              "      <td>0</td>\n",
              "      <td>0</td>\n",
              "      <td>0</td>\n",
              "      <td>1</td>\n",
              "      <td>0</td>\n",
              "      <td>0</td>\n",
              "      <td>0</td>\n",
              "      <td>1</td>\n",
              "      <td>0</td>\n",
              "      <td>0</td>\n",
              "      <td>0</td>\n",
              "      <td>0</td>\n",
              "    </tr>\n",
              "    <tr>\n",
              "      <th>4</th>\n",
              "      <td>5</td>\n",
              "      <td>TOYOTA Corolla 2.0 D4D HATCHB SOL 2/3-Doors</td>\n",
              "      <td>13750</td>\n",
              "      <td>30</td>\n",
              "      <td>3</td>\n",
              "      <td>2002</td>\n",
              "      <td>38500</td>\n",
              "      <td>Diesel</td>\n",
              "      <td>90</td>\n",
              "      <td>0</td>\n",
              "      <td>Black</td>\n",
              "      <td>0</td>\n",
              "      <td>2000</td>\n",
              "      <td>3</td>\n",
              "      <td>4</td>\n",
              "      <td>5</td>\n",
              "      <td>210</td>\n",
              "      <td>1170</td>\n",
              "      <td>1</td>\n",
              "      <td>1</td>\n",
              "      <td>3</td>\n",
              "      <td>1</td>\n",
              "      <td>1</td>\n",
              "      <td>1</td>\n",
              "      <td>1</td>\n",
              "      <td>0</td>\n",
              "      <td>1</td>\n",
              "      <td>0</td>\n",
              "      <td>1</td>\n",
              "      <td>1</td>\n",
              "      <td>1</td>\n",
              "      <td>0</td>\n",
              "      <td>1</td>\n",
              "      <td>0</td>\n",
              "      <td>1</td>\n",
              "      <td>0</td>\n",
              "      <td>0</td>\n",
              "      <td>0</td>\n",
              "      <td>0</td>\n",
              "    </tr>\n",
              "    <tr>\n",
              "      <th>...</th>\n",
              "      <td>...</td>\n",
              "      <td>...</td>\n",
              "      <td>...</td>\n",
              "      <td>...</td>\n",
              "      <td>...</td>\n",
              "      <td>...</td>\n",
              "      <td>...</td>\n",
              "      <td>...</td>\n",
              "      <td>...</td>\n",
              "      <td>...</td>\n",
              "      <td>...</td>\n",
              "      <td>...</td>\n",
              "      <td>...</td>\n",
              "      <td>...</td>\n",
              "      <td>...</td>\n",
              "      <td>...</td>\n",
              "      <td>...</td>\n",
              "      <td>...</td>\n",
              "      <td>...</td>\n",
              "      <td>...</td>\n",
              "      <td>...</td>\n",
              "      <td>...</td>\n",
              "      <td>...</td>\n",
              "      <td>...</td>\n",
              "      <td>...</td>\n",
              "      <td>...</td>\n",
              "      <td>...</td>\n",
              "      <td>...</td>\n",
              "      <td>...</td>\n",
              "      <td>...</td>\n",
              "      <td>...</td>\n",
              "      <td>...</td>\n",
              "      <td>...</td>\n",
              "      <td>...</td>\n",
              "      <td>...</td>\n",
              "      <td>...</td>\n",
              "      <td>...</td>\n",
              "      <td>...</td>\n",
              "      <td>...</td>\n",
              "    </tr>\n",
              "    <tr>\n",
              "      <th>1431</th>\n",
              "      <td>1438</td>\n",
              "      <td>TOYOTA Corolla 1.3 16V HATCHB G6 2/3-Doors</td>\n",
              "      <td>7500</td>\n",
              "      <td>69</td>\n",
              "      <td>12</td>\n",
              "      <td>1998</td>\n",
              "      <td>20544</td>\n",
              "      <td>Petrol</td>\n",
              "      <td>86</td>\n",
              "      <td>1</td>\n",
              "      <td>Blue</td>\n",
              "      <td>0</td>\n",
              "      <td>1300</td>\n",
              "      <td>3</td>\n",
              "      <td>4</td>\n",
              "      <td>5</td>\n",
              "      <td>69</td>\n",
              "      <td>1025</td>\n",
              "      <td>1</td>\n",
              "      <td>1</td>\n",
              "      <td>3</td>\n",
              "      <td>1</td>\n",
              "      <td>1</td>\n",
              "      <td>1</td>\n",
              "      <td>1</td>\n",
              "      <td>0</td>\n",
              "      <td>0</td>\n",
              "      <td>0</td>\n",
              "      <td>1</td>\n",
              "      <td>1</td>\n",
              "      <td>1</td>\n",
              "      <td>0</td>\n",
              "      <td>1</td>\n",
              "      <td>1</td>\n",
              "      <td>1</td>\n",
              "      <td>0</td>\n",
              "      <td>0</td>\n",
              "      <td>0</td>\n",
              "      <td>0</td>\n",
              "    </tr>\n",
              "    <tr>\n",
              "      <th>1432</th>\n",
              "      <td>1439</td>\n",
              "      <td>TOYOTA Corolla 1.3 16V HATCHB LINEA TERRA 2/3-...</td>\n",
              "      <td>10845</td>\n",
              "      <td>72</td>\n",
              "      <td>9</td>\n",
              "      <td>1998</td>\n",
              "      <td>19000</td>\n",
              "      <td>Petrol</td>\n",
              "      <td>86</td>\n",
              "      <td>0</td>\n",
              "      <td>Grey</td>\n",
              "      <td>0</td>\n",
              "      <td>1300</td>\n",
              "      <td>3</td>\n",
              "      <td>4</td>\n",
              "      <td>5</td>\n",
              "      <td>69</td>\n",
              "      <td>1015</td>\n",
              "      <td>0</td>\n",
              "      <td>1</td>\n",
              "      <td>3</td>\n",
              "      <td>1</td>\n",
              "      <td>1</td>\n",
              "      <td>1</td>\n",
              "      <td>0</td>\n",
              "      <td>0</td>\n",
              "      <td>0</td>\n",
              "      <td>0</td>\n",
              "      <td>0</td>\n",
              "      <td>0</td>\n",
              "      <td>1</td>\n",
              "      <td>0</td>\n",
              "      <td>0</td>\n",
              "      <td>1</td>\n",
              "      <td>1</td>\n",
              "      <td>0</td>\n",
              "      <td>0</td>\n",
              "      <td>0</td>\n",
              "      <td>0</td>\n",
              "    </tr>\n",
              "    <tr>\n",
              "      <th>1433</th>\n",
              "      <td>1440</td>\n",
              "      <td>TOYOTA Corolla 1.3 16V HATCHB LINEA TERRA 2/3-...</td>\n",
              "      <td>8500</td>\n",
              "      <td>71</td>\n",
              "      <td>10</td>\n",
              "      <td>1998</td>\n",
              "      <td>17016</td>\n",
              "      <td>Petrol</td>\n",
              "      <td>86</td>\n",
              "      <td>0</td>\n",
              "      <td>Blue</td>\n",
              "      <td>0</td>\n",
              "      <td>1300</td>\n",
              "      <td>3</td>\n",
              "      <td>4</td>\n",
              "      <td>5</td>\n",
              "      <td>69</td>\n",
              "      <td>1015</td>\n",
              "      <td>0</td>\n",
              "      <td>1</td>\n",
              "      <td>3</td>\n",
              "      <td>0</td>\n",
              "      <td>1</td>\n",
              "      <td>1</td>\n",
              "      <td>0</td>\n",
              "      <td>0</td>\n",
              "      <td>0</td>\n",
              "      <td>0</td>\n",
              "      <td>0</td>\n",
              "      <td>0</td>\n",
              "      <td>1</td>\n",
              "      <td>0</td>\n",
              "      <td>0</td>\n",
              "      <td>0</td>\n",
              "      <td>1</td>\n",
              "      <td>0</td>\n",
              "      <td>0</td>\n",
              "      <td>0</td>\n",
              "      <td>0</td>\n",
              "    </tr>\n",
              "    <tr>\n",
              "      <th>1434</th>\n",
              "      <td>1441</td>\n",
              "      <td>TOYOTA Corolla 1.3 16V HATCHB LINEA TERRA 2/3-...</td>\n",
              "      <td>7250</td>\n",
              "      <td>70</td>\n",
              "      <td>11</td>\n",
              "      <td>1998</td>\n",
              "      <td>16916</td>\n",
              "      <td>Petrol</td>\n",
              "      <td>86</td>\n",
              "      <td>1</td>\n",
              "      <td>Grey</td>\n",
              "      <td>0</td>\n",
              "      <td>1300</td>\n",
              "      <td>3</td>\n",
              "      <td>4</td>\n",
              "      <td>5</td>\n",
              "      <td>69</td>\n",
              "      <td>1015</td>\n",
              "      <td>1</td>\n",
              "      <td>1</td>\n",
              "      <td>3</td>\n",
              "      <td>0</td>\n",
              "      <td>0</td>\n",
              "      <td>0</td>\n",
              "      <td>0</td>\n",
              "      <td>0</td>\n",
              "      <td>0</td>\n",
              "      <td>0</td>\n",
              "      <td>0</td>\n",
              "      <td>0</td>\n",
              "      <td>0</td>\n",
              "      <td>0</td>\n",
              "      <td>0</td>\n",
              "      <td>0</td>\n",
              "      <td>1</td>\n",
              "      <td>0</td>\n",
              "      <td>0</td>\n",
              "      <td>0</td>\n",
              "      <td>0</td>\n",
              "    </tr>\n",
              "    <tr>\n",
              "      <th>1435</th>\n",
              "      <td>1442</td>\n",
              "      <td>TOYOTA Corolla 1.6 LB LINEA TERRA 4/5-Doors</td>\n",
              "      <td>6950</td>\n",
              "      <td>76</td>\n",
              "      <td>5</td>\n",
              "      <td>1998</td>\n",
              "      <td>1</td>\n",
              "      <td>Petrol</td>\n",
              "      <td>110</td>\n",
              "      <td>0</td>\n",
              "      <td>Green</td>\n",
              "      <td>0</td>\n",
              "      <td>1600</td>\n",
              "      <td>5</td>\n",
              "      <td>4</td>\n",
              "      <td>5</td>\n",
              "      <td>19</td>\n",
              "      <td>1114</td>\n",
              "      <td>0</td>\n",
              "      <td>0</td>\n",
              "      <td>3</td>\n",
              "      <td>0</td>\n",
              "      <td>1</td>\n",
              "      <td>0</td>\n",
              "      <td>0</td>\n",
              "      <td>0</td>\n",
              "      <td>0</td>\n",
              "      <td>0</td>\n",
              "      <td>0</td>\n",
              "      <td>0</td>\n",
              "      <td>1</td>\n",
              "      <td>0</td>\n",
              "      <td>0</td>\n",
              "      <td>0</td>\n",
              "      <td>0</td>\n",
              "      <td>0</td>\n",
              "      <td>0</td>\n",
              "      <td>0</td>\n",
              "      <td>0</td>\n",
              "    </tr>\n",
              "  </tbody>\n",
              "</table>\n",
              "<p>1436 rows × 39 columns</p>\n",
              "</div>"
            ],
            "text/plain": [
              "        Id  ... Tow_Bar\n",
              "0        1  ...       0\n",
              "1        2  ...       0\n",
              "2        3  ...       0\n",
              "3        4  ...       0\n",
              "4        5  ...       0\n",
              "...    ...  ...     ...\n",
              "1431  1438  ...       0\n",
              "1432  1439  ...       0\n",
              "1433  1440  ...       0\n",
              "1434  1441  ...       0\n",
              "1435  1442  ...       0\n",
              "\n",
              "[1436 rows x 39 columns]"
            ]
          },
          "metadata": {
            "tags": []
          },
          "execution_count": 139
        }
      ]
    },
    {
      "cell_type": "code",
      "metadata": {
        "colab": {
          "base_uri": "https://localhost:8080/"
        },
        "id": "Uk_a5lZDpbQJ",
        "outputId": "fff22a34-8d76-4500-fc2d-74f7dee84040"
      },
      "source": [
        "# Viewing the columns present in the dataset\n",
        "toyota.columns"
      ],
      "execution_count": 140,
      "outputs": [
        {
          "output_type": "execute_result",
          "data": {
            "text/plain": [
              "Index(['Id', 'Model', 'Price', 'Age_08_04', 'Mfg_Month', 'Mfg_Year', 'KM',\n",
              "       'Fuel_Type', 'HP', 'Met_Color', 'Color', 'Automatic', 'CC', 'Doors',\n",
              "       'Cylinders', 'Gears', 'Quarterly_Tax', 'Weight', 'Mfr_Guarantee',\n",
              "       'BOVAG_Guarantee', 'Guarantee_Period', 'ABS', 'Airbag_1', 'Airbag_2',\n",
              "       'Airco', 'Automatic_airco', 'Boardcomputer', 'CD_Player',\n",
              "       'Central_Lock', 'Powered_Windows', 'Power_Steering', 'Radio',\n",
              "       'Mistlamps', 'Sport_Model', 'Backseat_Divider', 'Metallic_Rim',\n",
              "       'Radio_cassette', 'Parking_Assistant', 'Tow_Bar'],\n",
              "      dtype='object')"
            ]
          },
          "metadata": {
            "tags": []
          },
          "execution_count": 140
        }
      ]
    },
    {
      "cell_type": "code",
      "metadata": {
        "colab": {
          "base_uri": "https://localhost:8080/"
        },
        "id": "mSRAwo31p16S",
        "outputId": "da5e4031-7155-46fd-a519-49fe4c2c2fdf"
      },
      "source": [
        "# Data types\n",
        "toyota.dtypes"
      ],
      "execution_count": 141,
      "outputs": [
        {
          "output_type": "execute_result",
          "data": {
            "text/plain": [
              "Id                    int64\n",
              "Model                object\n",
              "Price                 int64\n",
              "Age_08_04             int64\n",
              "Mfg_Month             int64\n",
              "Mfg_Year              int64\n",
              "KM                    int64\n",
              "Fuel_Type            object\n",
              "HP                    int64\n",
              "Met_Color             int64\n",
              "Color                object\n",
              "Automatic             int64\n",
              "CC                    int64\n",
              "Doors                 int64\n",
              "Cylinders             int64\n",
              "Gears                 int64\n",
              "Quarterly_Tax         int64\n",
              "Weight                int64\n",
              "Mfr_Guarantee         int64\n",
              "BOVAG_Guarantee       int64\n",
              "Guarantee_Period      int64\n",
              "ABS                   int64\n",
              "Airbag_1              int64\n",
              "Airbag_2              int64\n",
              "Airco                 int64\n",
              "Automatic_airco       int64\n",
              "Boardcomputer         int64\n",
              "CD_Player             int64\n",
              "Central_Lock          int64\n",
              "Powered_Windows       int64\n",
              "Power_Steering        int64\n",
              "Radio                 int64\n",
              "Mistlamps             int64\n",
              "Sport_Model           int64\n",
              "Backseat_Divider      int64\n",
              "Metallic_Rim          int64\n",
              "Radio_cassette        int64\n",
              "Parking_Assistant     int64\n",
              "Tow_Bar               int64\n",
              "dtype: object"
            ]
          },
          "metadata": {
            "tags": []
          },
          "execution_count": 141
        }
      ]
    },
    {
      "cell_type": "code",
      "metadata": {
        "colab": {
          "base_uri": "https://localhost:8080/"
        },
        "id": "BZxQylRYmVUL",
        "outputId": "03bab387-36f8-4d97-f96a-39cd7b45f210"
      },
      "source": [
        "print('Number of Rows and Columns in toyota dataset is= {}'.format(toyota.shape))"
      ],
      "execution_count": 142,
      "outputs": [
        {
          "output_type": "stream",
          "text": [
            "Number of Rows and Columns in toyota dataset is= (1436, 39)\n"
          ],
          "name": "stdout"
        }
      ]
    },
    {
      "cell_type": "code",
      "metadata": {
        "colab": {
          "base_uri": "https://localhost:8080/"
        },
        "id": "BqRKyMAHqbuA",
        "outputId": "6648e48e-1776-422f-9add-7bd0e93fad6e"
      },
      "source": [
        "# General Information regarding the dataset\n",
        "toyota.info()"
      ],
      "execution_count": 143,
      "outputs": [
        {
          "output_type": "stream",
          "text": [
            "<class 'pandas.core.frame.DataFrame'>\n",
            "RangeIndex: 1436 entries, 0 to 1435\n",
            "Data columns (total 39 columns):\n",
            " #   Column             Non-Null Count  Dtype \n",
            "---  ------             --------------  ----- \n",
            " 0   Id                 1436 non-null   int64 \n",
            " 1   Model              1436 non-null   object\n",
            " 2   Price              1436 non-null   int64 \n",
            " 3   Age_08_04          1436 non-null   int64 \n",
            " 4   Mfg_Month          1436 non-null   int64 \n",
            " 5   Mfg_Year           1436 non-null   int64 \n",
            " 6   KM                 1436 non-null   int64 \n",
            " 7   Fuel_Type          1436 non-null   object\n",
            " 8   HP                 1436 non-null   int64 \n",
            " 9   Met_Color          1436 non-null   int64 \n",
            " 10  Color              1436 non-null   object\n",
            " 11  Automatic          1436 non-null   int64 \n",
            " 12  CC                 1436 non-null   int64 \n",
            " 13  Doors              1436 non-null   int64 \n",
            " 14  Cylinders          1436 non-null   int64 \n",
            " 15  Gears              1436 non-null   int64 \n",
            " 16  Quarterly_Tax      1436 non-null   int64 \n",
            " 17  Weight             1436 non-null   int64 \n",
            " 18  Mfr_Guarantee      1436 non-null   int64 \n",
            " 19  BOVAG_Guarantee    1436 non-null   int64 \n",
            " 20  Guarantee_Period   1436 non-null   int64 \n",
            " 21  ABS                1436 non-null   int64 \n",
            " 22  Airbag_1           1436 non-null   int64 \n",
            " 23  Airbag_2           1436 non-null   int64 \n",
            " 24  Airco              1436 non-null   int64 \n",
            " 25  Automatic_airco    1436 non-null   int64 \n",
            " 26  Boardcomputer      1436 non-null   int64 \n",
            " 27  CD_Player          1436 non-null   int64 \n",
            " 28  Central_Lock       1436 non-null   int64 \n",
            " 29  Powered_Windows    1436 non-null   int64 \n",
            " 30  Power_Steering     1436 non-null   int64 \n",
            " 31  Radio              1436 non-null   int64 \n",
            " 32  Mistlamps          1436 non-null   int64 \n",
            " 33  Sport_Model        1436 non-null   int64 \n",
            " 34  Backseat_Divider   1436 non-null   int64 \n",
            " 35  Metallic_Rim       1436 non-null   int64 \n",
            " 36  Radio_cassette     1436 non-null   int64 \n",
            " 37  Parking_Assistant  1436 non-null   int64 \n",
            " 38  Tow_Bar            1436 non-null   int64 \n",
            "dtypes: int64(36), object(3)\n",
            "memory usage: 437.7+ KB\n"
          ],
          "name": "stdout"
        }
      ]
    },
    {
      "cell_type": "code",
      "metadata": {
        "colab": {
          "base_uri": "https://localhost:8080/"
        },
        "id": "9ow4O_XbCSKS",
        "outputId": "b28d4814-60f7-47fa-ee65-9fd625426b97"
      },
      "source": [
        "print(toyota.describe())"
      ],
      "execution_count": 144,
      "outputs": [
        {
          "output_type": "stream",
          "text": [
            "                Id         Price  ...  Parking_Assistant      Tow_Bar\n",
            "count  1436.000000   1436.000000  ...        1436.000000  1436.000000\n",
            "mean    721.555014  10730.824513  ...           0.002786     0.277855\n",
            "std     416.476890   3626.964585  ...           0.052723     0.448098\n",
            "min       1.000000   4350.000000  ...           0.000000     0.000000\n",
            "25%     361.750000   8450.000000  ...           0.000000     0.000000\n",
            "50%     721.500000   9900.000000  ...           0.000000     0.000000\n",
            "75%    1081.250000  11950.000000  ...           0.000000     1.000000\n",
            "max    1442.000000  32500.000000  ...           1.000000     1.000000\n",
            "\n",
            "[8 rows x 36 columns]\n"
          ],
          "name": "stdout"
        }
      ]
    },
    {
      "cell_type": "code",
      "metadata": {
        "colab": {
          "base_uri": "https://localhost:8080/"
        },
        "id": "nYpD8jwfC1E-",
        "outputId": "43be7613-1da3-4928-dcca-5a147de274a0"
      },
      "source": [
        "#Summarizes String columns\n",
        "print(toyota.describe(include=['object']))"
      ],
      "execution_count": 145,
      "outputs": [
        {
          "output_type": "stream",
          "text": [
            "                                                    Model Fuel_Type Color\n",
            "count                                                1436      1436  1436\n",
            "unique                                                319         3    10\n",
            "top     TOYOTA Corolla 1.6 16V HATCHB LINEA TERRA 2/3-...    Petrol  Grey\n",
            "freq                                                  109      1264   301\n"
          ],
          "name": "stdout"
        }
      ]
    },
    {
      "cell_type": "code",
      "metadata": {
        "colab": {
          "base_uri": "https://localhost:8080/"
        },
        "id": "Ysug8buDna6Z",
        "outputId": "0ad1736f-3253-4ff8-ba5a-84bf84e47ff0"
      },
      "source": [
        "print('Number of missing values {}'.format(toyota.isnull().sum()))"
      ],
      "execution_count": 146,
      "outputs": [
        {
          "output_type": "stream",
          "text": [
            "Number of missing values Id                   0\n",
            "Model                0\n",
            "Price                0\n",
            "Age_08_04            0\n",
            "Mfg_Month            0\n",
            "Mfg_Year             0\n",
            "KM                   0\n",
            "Fuel_Type            0\n",
            "HP                   0\n",
            "Met_Color            0\n",
            "Color                0\n",
            "Automatic            0\n",
            "CC                   0\n",
            "Doors                0\n",
            "Cylinders            0\n",
            "Gears                0\n",
            "Quarterly_Tax        0\n",
            "Weight               0\n",
            "Mfr_Guarantee        0\n",
            "BOVAG_Guarantee      0\n",
            "Guarantee_Period     0\n",
            "ABS                  0\n",
            "Airbag_1             0\n",
            "Airbag_2             0\n",
            "Airco                0\n",
            "Automatic_airco      0\n",
            "Boardcomputer        0\n",
            "CD_Player            0\n",
            "Central_Lock         0\n",
            "Powered_Windows      0\n",
            "Power_Steering       0\n",
            "Radio                0\n",
            "Mistlamps            0\n",
            "Sport_Model          0\n",
            "Backseat_Divider     0\n",
            "Metallic_Rim         0\n",
            "Radio_cassette       0\n",
            "Parking_Assistant    0\n",
            "Tow_Bar              0\n",
            "dtype: int64\n"
          ],
          "name": "stdout"
        }
      ]
    },
    {
      "cell_type": "code",
      "metadata": {
        "colab": {
          "base_uri": "https://localhost:8080/"
        },
        "id": "1y5JLal9Sfo1",
        "outputId": "79f70ea9-6cf5-4eb1-88f0-5426001bf5f7"
      },
      "source": [
        "print(toyota.corr())"
      ],
      "execution_count": 147,
      "outputs": [
        {
          "output_type": "stream",
          "text": [
            "                         Id     Price  ...  Parking_Assistant   Tow_Bar\n",
            "Id                 1.000000 -0.738250  ...          -0.049103  0.159171\n",
            "Price             -0.738250  1.000000  ...           0.044375 -0.172369\n",
            "Age_08_04          0.906132 -0.876590  ...          -0.048172  0.188720\n",
            "Mfg_Month          0.043742 -0.018138  ...           0.007113 -0.042170\n",
            "Mfg_Year          -0.919523  0.885159  ...           0.047171 -0.182206\n",
            "KM                 0.273298 -0.569960  ...          -0.064318  0.084153\n",
            "HP                -0.109375  0.314990  ...           0.029990  0.068271\n",
            "Met_Color         -0.079713  0.108905  ...           0.036691  0.148536\n",
            "Automatic          0.066265  0.033081  ...           0.159985  0.018786\n",
            "CC                -0.117704  0.126389  ...           0.002883  0.002725\n",
            "Doors             -0.130207  0.185326  ...           0.025893  0.102292\n",
            "Cylinders               NaN       NaN  ...                NaN       NaN\n",
            "Gears             -0.043343  0.063104  ...          -0.007422 -0.029357\n",
            "Quarterly_Tax     -0.240821  0.219197  ...          -0.019118 -0.004988\n",
            "Weight            -0.414500  0.581198  ...           0.027660 -0.074932\n",
            "Mfr_Guarantee     -0.162006  0.197802  ...          -0.017140 -0.023328\n",
            "BOVAG_Guarantee   -0.015065  0.028133  ...           0.018050 -0.006718\n",
            "Guarantee_Period  -0.086256  0.146627  ...           0.025189  0.008590\n",
            "ABS               -0.461437  0.306138  ...           0.025317 -0.065976\n",
            "Airbag_1          -0.123465  0.093588  ...           0.009174  0.052312\n",
            "Airbag_2          -0.358316  0.248974  ...           0.003207 -0.063956\n",
            "Airco             -0.386207  0.429259  ...           0.051976 -0.024362\n",
            "Automatic_airco   -0.327468  0.588262  ...           0.044350 -0.117967\n",
            "Boardcomputer     -0.695207  0.601292  ...           0.052803 -0.128001\n",
            "CD_Player         -0.464520  0.481374  ...           0.035973 -0.079911\n",
            "Central_Lock      -0.238940  0.343458  ...           0.018196 -0.007728\n",
            "Powered_Windows   -0.236723  0.356518  ...          -0.006602 -0.013252\n",
            "Power_Steering    -0.091587  0.064275  ...           0.007979  0.030453\n",
            "Radio             -0.010971 -0.041887  ...           0.015520  0.143652\n",
            "Mistlamps         -0.139708  0.222083  ...          -0.000842 -0.069479\n",
            "Sport_Model       -0.028704  0.164121  ...          -0.005782 -0.094147\n",
            "Backseat_Divider  -0.136398  0.102569  ...          -0.002537 -0.049176\n",
            "Metallic_Rim      -0.022232  0.108564  ...          -0.026816 -0.037331\n",
            "Radio_cassette    -0.011611 -0.043179  ...           0.015655  0.140753\n",
            "Parking_Assistant -0.049103  0.044375  ...           1.000000  0.026210\n",
            "Tow_Bar            0.159171 -0.172369  ...           0.026210  1.000000\n",
            "\n",
            "[36 rows x 36 columns]\n"
          ],
          "name": "stdout"
        }
      ]
    },
    {
      "cell_type": "code",
      "metadata": {
        "colab": {
          "base_uri": "https://localhost:8080/",
          "height": 294
        },
        "id": "_E1moacaf45E",
        "outputId": "c430a9a6-612d-4eb5-bf05-35727b5ea668"
      },
      "source": [
        "f, axes = plt.subplots(1,2,figsize=(14,4))\n",
        "\n",
        "sns.distplot(toyota['KM'], ax = axes[0])\n",
        "axes[0].set_xlabel('KM', fontsize=14)\n",
        "axes[0].set_ylabel('Count', fontsize=14)\n",
        "axes[0].yaxis.tick_left()\n",
        "\n",
        "sns.scatterplot(x = 'Price', y = 'KM', data = toyota, ax = axes[1])\n",
        "axes[1].set_xlabel('Price', fontsize=14)\n",
        "axes[1].set_ylabel('KM', fontsize=14)\n",
        "axes[1].yaxis.set_label_position(\"right\")\n",
        "axes[1].yaxis.tick_right()\n",
        "\n",
        "plt.show()"
      ],
      "execution_count": 148,
      "outputs": [
        {
          "output_type": "display_data",
          "data": {
            "image/png": "[encoded data removed]",
            "text/plain": [
              "<Figure size 1008x288 with 2 Axes>"
            ]
          },
          "metadata": {
            "tags": [],
            "needs_background": "light"
          }
        }
      ]
    },
    {
      "cell_type": "code",
      "metadata": {
        "colab": {
          "base_uri": "https://localhost:8080/",
          "height": 283
        },
        "id": "j0iBGcw7Ow7b",
        "outputId": "967f9148-2e2f-47d9-b7ec-13010c038af2"
      },
      "source": [
        "f, axes = plt.subplots(1,2,figsize=(14,4))\n",
        "\n",
        "sns.distplot(toyota['Automatic'], ax = axes[0])\n",
        "axes[0].set_xlabel('Automatic', fontsize=14)\n",
        "axes[0].set_ylabel('Count', fontsize=14)\n",
        "axes[0].yaxis.tick_left()\n",
        "\n",
        "sns.boxenplot(x = 'Automatic', y = 'Price', data = toyota, ax = axes[1])\n",
        "axes[1].set_xlabel('Automatic', fontsize=14)\n",
        "axes[1].set_ylabel('Price', fontsize=14)\n",
        "axes[1].yaxis.set_label_position(\"right\")\n",
        "axes[1].yaxis.tick_right()\n",
        "\n",
        "plt.show()"
      ],
      "execution_count": 149,
      "outputs": [
        {
          "output_type": "display_data",
          "data": {
            "image/png": "[encoded data removed]",
            "text/plain": [
              "<Figure size 1008x288 with 2 Axes>"
            ]
          },
          "metadata": {
            "tags": [],
            "needs_background": "light"
          }
        }
      ]
    },
    {
      "cell_type": "code",
      "metadata": {
        "colab": {
          "base_uri": "https://localhost:8080/",
          "height": 283
        },
        "id": "0wqho5hIOw-r",
        "outputId": "1734b8b0-d1f4-42fa-c9aa-9433cd10753c"
      },
      "source": [
        "from collections import Counter\n",
        "\n",
        "fuel_list= Counter(toyota['Fuel_Type'])\n",
        "labels = fuel_list.keys()\n",
        "sizes = fuel_list.values()\n",
        "\n",
        "f, axes = plt.subplots(1,2,figsize=(14,4))\n",
        "\n",
        "sns.countplot(toyota['Fuel_Type'], ax = axes[0], palette=\"Set1\")\n",
        "axes[0].set_xlabel('Fuel_Type', fontsize=14)\n",
        "axes[0].set_ylabel('Count', fontsize=14)\n",
        "axes[0].yaxis.tick_left()\n",
        "\n",
        "sns.violinplot(x = 'Fuel_Type', y = 'Price', data = toyota, ax = axes[1])\n",
        "axes[1].set_xlabel('Fuel_Type', fontsize=14)\n",
        "axes[1].set_ylabel('Price', fontsize=14)\n",
        "axes[1].yaxis.set_label_position(\"right\")\n",
        "axes[1].yaxis.tick_right()\n",
        "\n",
        "plt.show()"
      ],
      "execution_count": 150,
      "outputs": [
        {
          "output_type": "display_data",
          "data": {
            "image/png": "[encoded data removed]",
            "text/plain": [
              "<Figure size 1008x288 with 2 Axes>"
            ]
          },
          "metadata": {
            "tags": [],
            "needs_background": "light"
          }
        }
      ]
    },
    {
      "cell_type": "code",
      "metadata": {
        "colab": {
          "base_uri": "https://localhost:8080/",
          "height": 283
        },
        "id": "Qke7uLwJOxBd",
        "outputId": "0f9f0aa1-0d97-4ea2-b3dc-e0128f337637"
      },
      "source": [
        "f, axes = plt.subplots(1, 2, figsize=(14,4))\n",
        "\n",
        "sns.regplot(x = 'Price', y = 'Age_08_04', data = toyota, scatter_kws={'alpha':0.6}, ax = axes[0])\n",
        "axes[0].set_xlabel('Price', fontsize=14)\n",
        "axes[0].set_ylabel('Age_08_04', fontsize=14)\n",
        "axes[0].yaxis.tick_left()\n",
        "\n",
        "sns.regplot(x = 'Price', y = 'KM', data = toyota, scatter_kws={'alpha':0.6}, ax = axes[1])\n",
        "axes[1].set_xlabel('Price', fontsize=14)\n",
        "axes[1].set_ylabel('KM', fontsize=14)\n",
        "axes[1].yaxis.set_label_position(\"right\")\n",
        "axes[1].yaxis.tick_right()\n",
        "\n"
      ],
      "execution_count": 151,
      "outputs": [
        {
          "output_type": "display_data",
          "data": {
            "image/png": "[encoded data removed]",
            "text/plain": [
              "<Figure size 1008x288 with 2 Axes>"
            ]
          },
          "metadata": {
            "tags": [],
            "needs_background": "light"
          }
        }
      ]
    },
    {
      "cell_type": "code",
      "metadata": {
        "colab": {
          "base_uri": "https://localhost:8080/",
          "height": 283
        },
        "id": "cMn2oBlUTSZ1",
        "outputId": "3f9ef60d-9963-4401-936e-c0e96224375f"
      },
      "source": [
        "f, axes = plt.subplots(1,2,figsize=(14,4))\n",
        "\n",
        "sns.distplot(toyota['Doors'], ax = axes[0])\n",
        "axes[0].set_xlabel('Doors', fontsize=14)\n",
        "axes[0].set_ylabel('Count', fontsize=14)\n",
        "axes[0].yaxis.tick_left()\n",
        "\n",
        "sns.boxenplot(x = 'Doors', y = 'Price', data = toyota, ax = axes[1])\n",
        "axes[1].set_xlabel('Doors', fontsize=14)\n",
        "axes[1].set_ylabel('Price', fontsize=14)\n",
        "axes[1].yaxis.set_label_position(\"right\")\n",
        "axes[1].yaxis.tick_right()\n",
        "\n",
        "plt.show()"
      ],
      "execution_count": 152,
      "outputs": [
        {
          "output_type": "display_data",
          "data": {
            "image/png": "[encoded data removed]",
            "text/plain": [
              "<Figure size 1008x288 with 2 Axes>"
            ]
          },
          "metadata": {
            "tags": [],
            "needs_background": "light"
          }
        }
      ]
    },
    {
      "cell_type": "markdown",
      "metadata": {
        "id": "_4MvEpWAXEkM"
      },
      "source": [
        "#Changing pandas dataframe to numpy array\n",
        "In python module will make two arrays X and y. X contains features and y will contain classes.\n",
        "\n",
        "Use predictors Age_08_04, KM, Fuel_Type, HP, Automatic, Doors, Quarterly_Tax, Mfr_Guarantee, Guarantee_Period, Airco, Automatic_airco, CD_Player, Powered_Windows, Sport_Model, and Tow_Bar, and transfer them all to a NumPy Array X\n",
        "Price in the Y array\n",
        "\n",
        "\n"
      ]
    },
    {
      "cell_type": "code",
      "metadata": {
        "id": "25bwF0xNW_5j",
        "colab": {
          "base_uri": "https://localhost:8080/"
        },
        "outputId": "8aabc16b-d3aa-4c87-aa28-63244f3832b4"
      },
      "source": [
        "X = toyota.loc[:,['Age_08_04', 'KM','Fuel_Type', 'HP', 'Automatic','Doors', 'Quarterly_Tax','Mfr_Guarantee',\n",
        "                'Guarantee_Period','Airco', 'Automatic_airco','CD_Player', 'Powered_Windows','Sport_Model', \n",
        "                'Tow_Bar']].values\n",
        "X"
      ],
      "execution_count": 153,
      "outputs": [
        {
          "output_type": "execute_result",
          "data": {
            "text/plain": [
              "array([[23, 46986, 'Diesel', ..., 1, 0, 0],\n",
              "       [23, 72937, 'Diesel', ..., 0, 0, 0],\n",
              "       [24, 41711, 'Diesel', ..., 0, 0, 0],\n",
              "       ...,\n",
              "       [71, 17016, 'Petrol', ..., 0, 0, 0],\n",
              "       [70, 16916, 'Petrol', ..., 0, 0, 0],\n",
              "       [76, 1, 'Petrol', ..., 0, 0, 0]], dtype=object)"
            ]
          },
          "metadata": {
            "tags": []
          },
          "execution_count": 153
        }
      ]
    },
    {
      "cell_type": "markdown",
      "metadata": {
        "id": "mQNVOR4sch1x"
      },
      "source": [
        "Transfer Price data for predicting into the Y "
      ]
    },
    {
      "cell_type": "code",
      "metadata": {
        "colab": {
          "base_uri": "https://localhost:8080/"
        },
        "id": "VSdSAshcMDa0",
        "outputId": "f940bedc-d794-47c2-9811-fe92027ccf03"
      },
      "source": [
        "Y = toyota.iloc[:, 2].values\n",
        "Y"
      ],
      "execution_count": 154,
      "outputs": [
        {
          "output_type": "execute_result",
          "data": {
            "text/plain": [
              "array([13500, 13750, 13950, ...,  8500,  7250,  6950])"
            ]
          },
          "metadata": {
            "tags": []
          },
          "execution_count": 154
        }
      ]
    },
    {
      "cell_type": "markdown",
      "metadata": {
        "id": "-0MXEdoMTxBl"
      },
      "source": [
        "# Encoding Categorical Data"
      ]
    },
    {
      "cell_type": "markdown",
      "metadata": {
        "id": "gy_-7ylyK6Nd"
      },
      "source": [
        "a.  One-hot Encoding: to produce dummies in different columns"
      ]
    },
    {
      "cell_type": "markdown",
      "metadata": {
        "id": "c1hY5mzti6Z-"
      },
      "source": [
        "# Following are different ways to create dummy variables for Fuel Types as a categorical variable "
      ]
    },
    {
      "cell_type": "markdown",
      "metadata": {
        "id": "l7gcL25JDgeo"
      },
      "source": [
        "# 1st way with get_dummies\n"
      ]
    },
    {
      "cell_type": "code",
      "metadata": {
        "colab": {
          "base_uri": "https://localhost:8080/",
          "height": 717
        },
        "id": "FB2QuVj5i4De",
        "outputId": "67ed6002-c28b-4476-e732-54aded45c908"
      },
      "source": [
        "# First way: \n",
        "# Encoding fuel_type using get_dummies\n",
        "\n",
        "# Creating a set of dummy variables from the Fuel variable\n",
        "# for new dummy columns using the prefix of 'Fuel_Type'\n",
        "toyota_dummy = pd.get_dummies(toyota['Fuel_Type'],prefix='Fuel_Type')\n",
        "\n",
        "# Joining the dummy variables to the main dataframe\n",
        "toyota_new_1 = pd.concat([toyota, toyota_dummy], axis=1)\n",
        "toyota_new_1.head()"
      ],
      "execution_count": 155,
      "outputs": [
        {
          "output_type": "execute_result",
          "data": {
            "text/html": [
              "<div>\n",
              "<style scoped>\n",
              "    .dataframe tbody tr th:only-of-type {\n",
              "        vertical-align: middle;\n",
              "    }\n",
              "\n",
              "    .dataframe tbody tr th {\n",
              "        vertical-align: top;\n",
              "    }\n",
              "\n",
              "    .dataframe thead th {\n",
              "        text-align: right;\n",
              "    }\n",
              "</style>\n",
              "<table border=\"1\" class=\"dataframe\">\n",
              "  <thead>\n",
              "    <tr style=\"text-align: right;\">\n",
              "      <th></th>\n",
              "      <th>Id</th>\n",
              "      <th>Model</th>\n",
              "      <th>Price</th>\n",
              "      <th>Age_08_04</th>\n",
              "      <th>Mfg_Month</th>\n",
              "      <th>Mfg_Year</th>\n",
              "      <th>KM</th>\n",
              "      <th>Fuel_Type</th>\n",
              "      <th>HP</th>\n",
              "      <th>Met_Color</th>\n",
              "      <th>Color</th>\n",
              "      <th>Automatic</th>\n",
              "      <th>CC</th>\n",
              "      <th>Doors</th>\n",
              "      <th>Cylinders</th>\n",
              "      <th>Gears</th>\n",
              "      <th>Quarterly_Tax</th>\n",
              "      <th>Weight</th>\n",
              "      <th>Mfr_Guarantee</th>\n",
              "      <th>BOVAG_Guarantee</th>\n",
              "      <th>Guarantee_Period</th>\n",
              "      <th>ABS</th>\n",
              "      <th>Airbag_1</th>\n",
              "      <th>Airbag_2</th>\n",
              "      <th>Airco</th>\n",
              "      <th>Automatic_airco</th>\n",
              "      <th>Boardcomputer</th>\n",
              "      <th>CD_Player</th>\n",
              "      <th>Central_Lock</th>\n",
              "      <th>Powered_Windows</th>\n",
              "      <th>Power_Steering</th>\n",
              "      <th>Radio</th>\n",
              "      <th>Mistlamps</th>\n",
              "      <th>Sport_Model</th>\n",
              "      <th>Backseat_Divider</th>\n",
              "      <th>Metallic_Rim</th>\n",
              "      <th>Radio_cassette</th>\n",
              "      <th>Parking_Assistant</th>\n",
              "      <th>Tow_Bar</th>\n",
              "      <th>Fuel_Type_CNG</th>\n",
              "      <th>Fuel_Type_Diesel</th>\n",
              "      <th>Fuel_Type_Petrol</th>\n",
              "    </tr>\n",
              "  </thead>\n",
              "  <tbody>\n",
              "    <tr>\n",
              "      <th>0</th>\n",
              "      <td>1</td>\n",
              "      <td>TOYOTA Corolla 2.0 D4D HATCHB TERRA 2/3-Doors</td>\n",
              "      <td>13500</td>\n",
              "      <td>23</td>\n",
              "      <td>10</td>\n",
              "      <td>2002</td>\n",
              "      <td>46986</td>\n",
              "      <td>Diesel</td>\n",
              "      <td>90</td>\n",
              "      <td>1</td>\n",
              "      <td>Blue</td>\n",
              "      <td>0</td>\n",
              "      <td>2000</td>\n",
              "      <td>3</td>\n",
              "      <td>4</td>\n",
              "      <td>5</td>\n",
              "      <td>210</td>\n",
              "      <td>1165</td>\n",
              "      <td>0</td>\n",
              "      <td>1</td>\n",
              "      <td>3</td>\n",
              "      <td>1</td>\n",
              "      <td>1</td>\n",
              "      <td>1</td>\n",
              "      <td>0</td>\n",
              "      <td>0</td>\n",
              "      <td>1</td>\n",
              "      <td>0</td>\n",
              "      <td>1</td>\n",
              "      <td>1</td>\n",
              "      <td>1</td>\n",
              "      <td>0</td>\n",
              "      <td>0</td>\n",
              "      <td>0</td>\n",
              "      <td>1</td>\n",
              "      <td>0</td>\n",
              "      <td>0</td>\n",
              "      <td>0</td>\n",
              "      <td>0</td>\n",
              "      <td>0</td>\n",
              "      <td>1</td>\n",
              "      <td>0</td>\n",
              "    </tr>\n",
              "    <tr>\n",
              "      <th>1</th>\n",
              "      <td>2</td>\n",
              "      <td>TOYOTA Corolla 2.0 D4D HATCHB TERRA 2/3-Doors</td>\n",
              "      <td>13750</td>\n",
              "      <td>23</td>\n",
              "      <td>10</td>\n",
              "      <td>2002</td>\n",
              "      <td>72937</td>\n",
              "      <td>Diesel</td>\n",
              "      <td>90</td>\n",
              "      <td>1</td>\n",
              "      <td>Silver</td>\n",
              "      <td>0</td>\n",
              "      <td>2000</td>\n",
              "      <td>3</td>\n",
              "      <td>4</td>\n",
              "      <td>5</td>\n",
              "      <td>210</td>\n",
              "      <td>1165</td>\n",
              "      <td>0</td>\n",
              "      <td>1</td>\n",
              "      <td>3</td>\n",
              "      <td>1</td>\n",
              "      <td>1</td>\n",
              "      <td>1</td>\n",
              "      <td>1</td>\n",
              "      <td>0</td>\n",
              "      <td>1</td>\n",
              "      <td>1</td>\n",
              "      <td>1</td>\n",
              "      <td>0</td>\n",
              "      <td>1</td>\n",
              "      <td>0</td>\n",
              "      <td>0</td>\n",
              "      <td>0</td>\n",
              "      <td>1</td>\n",
              "      <td>0</td>\n",
              "      <td>0</td>\n",
              "      <td>0</td>\n",
              "      <td>0</td>\n",
              "      <td>0</td>\n",
              "      <td>1</td>\n",
              "      <td>0</td>\n",
              "    </tr>\n",
              "    <tr>\n",
              "      <th>2</th>\n",
              "      <td>3</td>\n",
              "      <td>TOYOTA Corolla 2.0 D4D HATCHB TERRA 2/3-Doors</td>\n",
              "      <td>13950</td>\n",
              "      <td>24</td>\n",
              "      <td>9</td>\n",
              "      <td>2002</td>\n",
              "      <td>41711</td>\n",
              "      <td>Diesel</td>\n",
              "      <td>90</td>\n",
              "      <td>1</td>\n",
              "      <td>Blue</td>\n",
              "      <td>0</td>\n",
              "      <td>2000</td>\n",
              "      <td>3</td>\n",
              "      <td>4</td>\n",
              "      <td>5</td>\n",
              "      <td>210</td>\n",
              "      <td>1165</td>\n",
              "      <td>1</td>\n",
              "      <td>1</td>\n",
              "      <td>3</td>\n",
              "      <td>1</td>\n",
              "      <td>1</td>\n",
              "      <td>1</td>\n",
              "      <td>0</td>\n",
              "      <td>0</td>\n",
              "      <td>1</td>\n",
              "      <td>0</td>\n",
              "      <td>0</td>\n",
              "      <td>0</td>\n",
              "      <td>1</td>\n",
              "      <td>0</td>\n",
              "      <td>0</td>\n",
              "      <td>0</td>\n",
              "      <td>1</td>\n",
              "      <td>0</td>\n",
              "      <td>0</td>\n",
              "      <td>0</td>\n",
              "      <td>0</td>\n",
              "      <td>0</td>\n",
              "      <td>1</td>\n",
              "      <td>0</td>\n",
              "    </tr>\n",
              "    <tr>\n",
              "      <th>3</th>\n",
              "      <td>4</td>\n",
              "      <td>TOYOTA Corolla 2.0 D4D HATCHB TERRA 2/3-Doors</td>\n",
              "      <td>14950</td>\n",
              "      <td>26</td>\n",
              "      <td>7</td>\n",
              "      <td>2002</td>\n",
              "      <td>48000</td>\n",
              "      <td>Diesel</td>\n",
              "      <td>90</td>\n",
              "      <td>0</td>\n",
              "      <td>Black</td>\n",
              "      <td>0</td>\n",
              "      <td>2000</td>\n",
              "      <td>3</td>\n",
              "      <td>4</td>\n",
              "      <td>5</td>\n",
              "      <td>210</td>\n",
              "      <td>1165</td>\n",
              "      <td>1</td>\n",
              "      <td>1</td>\n",
              "      <td>3</td>\n",
              "      <td>1</td>\n",
              "      <td>1</td>\n",
              "      <td>1</td>\n",
              "      <td>0</td>\n",
              "      <td>0</td>\n",
              "      <td>1</td>\n",
              "      <td>0</td>\n",
              "      <td>0</td>\n",
              "      <td>0</td>\n",
              "      <td>1</td>\n",
              "      <td>0</td>\n",
              "      <td>0</td>\n",
              "      <td>0</td>\n",
              "      <td>1</td>\n",
              "      <td>0</td>\n",
              "      <td>0</td>\n",
              "      <td>0</td>\n",
              "      <td>0</td>\n",
              "      <td>0</td>\n",
              "      <td>1</td>\n",
              "      <td>0</td>\n",
              "    </tr>\n",
              "    <tr>\n",
              "      <th>4</th>\n",
              "      <td>5</td>\n",
              "      <td>TOYOTA Corolla 2.0 D4D HATCHB SOL 2/3-Doors</td>\n",
              "      <td>13750</td>\n",
              "      <td>30</td>\n",
              "      <td>3</td>\n",
              "      <td>2002</td>\n",
              "      <td>38500</td>\n",
              "      <td>Diesel</td>\n",
              "      <td>90</td>\n",
              "      <td>0</td>\n",
              "      <td>Black</td>\n",
              "      <td>0</td>\n",
              "      <td>2000</td>\n",
              "      <td>3</td>\n",
              "      <td>4</td>\n",
              "      <td>5</td>\n",
              "      <td>210</td>\n",
              "      <td>1170</td>\n",
              "      <td>1</td>\n",
              "      <td>1</td>\n",
              "      <td>3</td>\n",
              "      <td>1</td>\n",
              "      <td>1</td>\n",
              "      <td>1</td>\n",
              "      <td>1</td>\n",
              "      <td>0</td>\n",
              "      <td>1</td>\n",
              "      <td>0</td>\n",
              "      <td>1</td>\n",
              "      <td>1</td>\n",
              "      <td>1</td>\n",
              "      <td>0</td>\n",
              "      <td>1</td>\n",
              "      <td>0</td>\n",
              "      <td>1</td>\n",
              "      <td>0</td>\n",
              "      <td>0</td>\n",
              "      <td>0</td>\n",
              "      <td>0</td>\n",
              "      <td>0</td>\n",
              "      <td>1</td>\n",
              "      <td>0</td>\n",
              "    </tr>\n",
              "  </tbody>\n",
              "</table>\n",
              "</div>"
            ],
            "text/plain": [
              "   Id  ... Fuel_Type_Petrol\n",
              "0   1  ...                0\n",
              "1   2  ...                0\n",
              "2   3  ...                0\n",
              "3   4  ...                0\n",
              "4   5  ...                0\n",
              "\n",
              "[5 rows x 42 columns]"
            ]
          },
          "metadata": {
            "tags": []
          },
          "execution_count": 155
        }
      ]
    },
    {
      "cell_type": "markdown",
      "metadata": {
        "id": "1ySdAnyMDm91"
      },
      "source": [
        "# 2nd way is with category encoder"
      ]
    },
    {
      "cell_type": "code",
      "metadata": {
        "colab": {
          "base_uri": "https://localhost:8080/",
          "height": 606
        },
        "id": "uZ_pzBfKJ9gb",
        "outputId": "01eca83f-9c7e-4082-c0b9-721cfc19641e"
      },
      "source": [
        "# Second way to create dummy varibles by using category encoder\n",
        "\n",
        "!pip install category_encoders\n",
        "import category_encoders as ce\n",
        "fueltype = toyota['Fuel_Type']\n",
        "fuel = ce.OneHotEncoder(cols='Fuel_Type', use_cat_names=True).fit(fueltype)\n",
        "fuel.fit_transform(fueltype)\n"
      ],
      "execution_count": 156,
      "outputs": [
        {
          "output_type": "stream",
          "text": [
            "Requirement already satisfied: category_encoders in /usr/local/lib/python3.7/dist-packages (2.2.2)\n",
            "Requirement already satisfied: statsmodels>=0.9.0 in /usr/local/lib/python3.7/dist-packages (from category_encoders) (0.10.2)\n",
            "Requirement already satisfied: patsy>=0.5.1 in /usr/local/lib/python3.7/dist-packages (from category_encoders) (0.5.1)\n",
            "Requirement already satisfied: scipy>=1.0.0 in /usr/local/lib/python3.7/dist-packages (from category_encoders) (1.4.1)\n",
            "Requirement already satisfied: numpy>=1.14.0 in /usr/local/lib/python3.7/dist-packages (from category_encoders) (1.19.5)\n",
            "Requirement already satisfied: scikit-learn>=0.20.0 in /usr/local/lib/python3.7/dist-packages (from category_encoders) (0.22.2.post1)\n",
            "Requirement already satisfied: pandas>=0.21.1 in /usr/local/lib/python3.7/dist-packages (from category_encoders) (1.1.5)\n",
            "Requirement already satisfied: six in /usr/local/lib/python3.7/dist-packages (from patsy>=0.5.1->category_encoders) (1.15.0)\n",
            "Requirement already satisfied: joblib>=0.11 in /usr/local/lib/python3.7/dist-packages (from scikit-learn>=0.20.0->category_encoders) (1.0.1)\n",
            "Requirement already satisfied: pytz>=2017.2 in /usr/local/lib/python3.7/dist-packages (from pandas>=0.21.1->category_encoders) (2018.9)\n",
            "Requirement already satisfied: python-dateutil>=2.7.3 in /usr/local/lib/python3.7/dist-packages (from pandas>=0.21.1->category_encoders) (2.8.1)\n"
          ],
          "name": "stdout"
        },
        {
          "output_type": "execute_result",
          "data": {
            "text/html": [
              "<div>\n",
              "<style scoped>\n",
              "    .dataframe tbody tr th:only-of-type {\n",
              "        vertical-align: middle;\n",
              "    }\n",
              "\n",
              "    .dataframe tbody tr th {\n",
              "        vertical-align: top;\n",
              "    }\n",
              "\n",
              "    .dataframe thead th {\n",
              "        text-align: right;\n",
              "    }\n",
              "</style>\n",
              "<table border=\"1\" class=\"dataframe\">\n",
              "  <thead>\n",
              "    <tr style=\"text-align: right;\">\n",
              "      <th></th>\n",
              "      <th>Fuel_Type_Diesel</th>\n",
              "      <th>Fuel_Type_Petrol</th>\n",
              "      <th>Fuel_Type_CNG</th>\n",
              "    </tr>\n",
              "  </thead>\n",
              "  <tbody>\n",
              "    <tr>\n",
              "      <th>0</th>\n",
              "      <td>1</td>\n",
              "      <td>0</td>\n",
              "      <td>0</td>\n",
              "    </tr>\n",
              "    <tr>\n",
              "      <th>1</th>\n",
              "      <td>1</td>\n",
              "      <td>0</td>\n",
              "      <td>0</td>\n",
              "    </tr>\n",
              "    <tr>\n",
              "      <th>2</th>\n",
              "      <td>1</td>\n",
              "      <td>0</td>\n",
              "      <td>0</td>\n",
              "    </tr>\n",
              "    <tr>\n",
              "      <th>3</th>\n",
              "      <td>1</td>\n",
              "      <td>0</td>\n",
              "      <td>0</td>\n",
              "    </tr>\n",
              "    <tr>\n",
              "      <th>4</th>\n",
              "      <td>1</td>\n",
              "      <td>0</td>\n",
              "      <td>0</td>\n",
              "    </tr>\n",
              "    <tr>\n",
              "      <th>...</th>\n",
              "      <td>...</td>\n",
              "      <td>...</td>\n",
              "      <td>...</td>\n",
              "    </tr>\n",
              "    <tr>\n",
              "      <th>1431</th>\n",
              "      <td>0</td>\n",
              "      <td>1</td>\n",
              "      <td>0</td>\n",
              "    </tr>\n",
              "    <tr>\n",
              "      <th>1432</th>\n",
              "      <td>0</td>\n",
              "      <td>1</td>\n",
              "      <td>0</td>\n",
              "    </tr>\n",
              "    <tr>\n",
              "      <th>1433</th>\n",
              "      <td>0</td>\n",
              "      <td>1</td>\n",
              "      <td>0</td>\n",
              "    </tr>\n",
              "    <tr>\n",
              "      <th>1434</th>\n",
              "      <td>0</td>\n",
              "      <td>1</td>\n",
              "      <td>0</td>\n",
              "    </tr>\n",
              "    <tr>\n",
              "      <th>1435</th>\n",
              "      <td>0</td>\n",
              "      <td>1</td>\n",
              "      <td>0</td>\n",
              "    </tr>\n",
              "  </tbody>\n",
              "</table>\n",
              "<p>1436 rows × 3 columns</p>\n",
              "</div>"
            ],
            "text/plain": [
              "      Fuel_Type_Diesel  Fuel_Type_Petrol  Fuel_Type_CNG\n",
              "0                    1                 0              0\n",
              "1                    1                 0              0\n",
              "2                    1                 0              0\n",
              "3                    1                 0              0\n",
              "4                    1                 0              0\n",
              "...                ...               ...            ...\n",
              "1431                 0                 1              0\n",
              "1432                 0                 1              0\n",
              "1433                 0                 1              0\n",
              "1434                 0                 1              0\n",
              "1435                 0                 1              0\n",
              "\n",
              "[1436 rows x 3 columns]"
            ]
          },
          "metadata": {
            "tags": []
          },
          "execution_count": 156
        }
      ]
    },
    {
      "cell_type": "code",
      "metadata": {
        "colab": {
          "base_uri": "https://localhost:8080/",
          "height": 717
        },
        "id": "bwLt8XsbySpz",
        "outputId": "463814e1-7ddf-4b2f-b857-a8eb2d2d188c"
      },
      "source": [
        "#When only one or more than one columns are encoded, the dataframe obtained as output and original dataframe are concateneted to continue further.\n",
        "\n",
        "toyota_new_2 = pd.concat([toyota, toyota_dummy], axis=1)\n",
        "toyota_new_2.head()"
      ],
      "execution_count": 157,
      "outputs": [
        {
          "output_type": "execute_result",
          "data": {
            "text/html": [
              "<div>\n",
              "<style scoped>\n",
              "    .dataframe tbody tr th:only-of-type {\n",
              "        vertical-align: middle;\n",
              "    }\n",
              "\n",
              "    .dataframe tbody tr th {\n",
              "        vertical-align: top;\n",
              "    }\n",
              "\n",
              "    .dataframe thead th {\n",
              "        text-align: right;\n",
              "    }\n",
              "</style>\n",
              "<table border=\"1\" class=\"dataframe\">\n",
              "  <thead>\n",
              "    <tr style=\"text-align: right;\">\n",
              "      <th></th>\n",
              "      <th>Id</th>\n",
              "      <th>Model</th>\n",
              "      <th>Price</th>\n",
              "      <th>Age_08_04</th>\n",
              "      <th>Mfg_Month</th>\n",
              "      <th>Mfg_Year</th>\n",
              "      <th>KM</th>\n",
              "      <th>Fuel_Type</th>\n",
              "      <th>HP</th>\n",
              "      <th>Met_Color</th>\n",
              "      <th>Color</th>\n",
              "      <th>Automatic</th>\n",
              "      <th>CC</th>\n",
              "      <th>Doors</th>\n",
              "      <th>Cylinders</th>\n",
              "      <th>Gears</th>\n",
              "      <th>Quarterly_Tax</th>\n",
              "      <th>Weight</th>\n",
              "      <th>Mfr_Guarantee</th>\n",
              "      <th>BOVAG_Guarantee</th>\n",
              "      <th>Guarantee_Period</th>\n",
              "      <th>ABS</th>\n",
              "      <th>Airbag_1</th>\n",
              "      <th>Airbag_2</th>\n",
              "      <th>Airco</th>\n",
              "      <th>Automatic_airco</th>\n",
              "      <th>Boardcomputer</th>\n",
              "      <th>CD_Player</th>\n",
              "      <th>Central_Lock</th>\n",
              "      <th>Powered_Windows</th>\n",
              "      <th>Power_Steering</th>\n",
              "      <th>Radio</th>\n",
              "      <th>Mistlamps</th>\n",
              "      <th>Sport_Model</th>\n",
              "      <th>Backseat_Divider</th>\n",
              "      <th>Metallic_Rim</th>\n",
              "      <th>Radio_cassette</th>\n",
              "      <th>Parking_Assistant</th>\n",
              "      <th>Tow_Bar</th>\n",
              "      <th>Fuel_Type_CNG</th>\n",
              "      <th>Fuel_Type_Diesel</th>\n",
              "      <th>Fuel_Type_Petrol</th>\n",
              "    </tr>\n",
              "  </thead>\n",
              "  <tbody>\n",
              "    <tr>\n",
              "      <th>0</th>\n",
              "      <td>1</td>\n",
              "      <td>TOYOTA Corolla 2.0 D4D HATCHB TERRA 2/3-Doors</td>\n",
              "      <td>13500</td>\n",
              "      <td>23</td>\n",
              "      <td>10</td>\n",
              "      <td>2002</td>\n",
              "      <td>46986</td>\n",
              "      <td>Diesel</td>\n",
              "      <td>90</td>\n",
              "      <td>1</td>\n",
              "      <td>Blue</td>\n",
              "      <td>0</td>\n",
              "      <td>2000</td>\n",
              "      <td>3</td>\n",
              "      <td>4</td>\n",
              "      <td>5</td>\n",
              "      <td>210</td>\n",
              "      <td>1165</td>\n",
              "      <td>0</td>\n",
              "      <td>1</td>\n",
              "      <td>3</td>\n",
              "      <td>1</td>\n",
              "      <td>1</td>\n",
              "      <td>1</td>\n",
              "      <td>0</td>\n",
              "      <td>0</td>\n",
              "      <td>1</td>\n",
              "      <td>0</td>\n",
              "      <td>1</td>\n",
              "      <td>1</td>\n",
              "      <td>1</td>\n",
              "      <td>0</td>\n",
              "      <td>0</td>\n",
              "      <td>0</td>\n",
              "      <td>1</td>\n",
              "      <td>0</td>\n",
              "      <td>0</td>\n",
              "      <td>0</td>\n",
              "      <td>0</td>\n",
              "      <td>0</td>\n",
              "      <td>1</td>\n",
              "      <td>0</td>\n",
              "    </tr>\n",
              "    <tr>\n",
              "      <th>1</th>\n",
              "      <td>2</td>\n",
              "      <td>TOYOTA Corolla 2.0 D4D HATCHB TERRA 2/3-Doors</td>\n",
              "      <td>13750</td>\n",
              "      <td>23</td>\n",
              "      <td>10</td>\n",
              "      <td>2002</td>\n",
              "      <td>72937</td>\n",
              "      <td>Diesel</td>\n",
              "      <td>90</td>\n",
              "      <td>1</td>\n",
              "      <td>Silver</td>\n",
              "      <td>0</td>\n",
              "      <td>2000</td>\n",
              "      <td>3</td>\n",
              "      <td>4</td>\n",
              "      <td>5</td>\n",
              "      <td>210</td>\n",
              "      <td>1165</td>\n",
              "      <td>0</td>\n",
              "      <td>1</td>\n",
              "      <td>3</td>\n",
              "      <td>1</td>\n",
              "      <td>1</td>\n",
              "      <td>1</td>\n",
              "      <td>1</td>\n",
              "      <td>0</td>\n",
              "      <td>1</td>\n",
              "      <td>1</td>\n",
              "      <td>1</td>\n",
              "      <td>0</td>\n",
              "      <td>1</td>\n",
              "      <td>0</td>\n",
              "      <td>0</td>\n",
              "      <td>0</td>\n",
              "      <td>1</td>\n",
              "      <td>0</td>\n",
              "      <td>0</td>\n",
              "      <td>0</td>\n",
              "      <td>0</td>\n",
              "      <td>0</td>\n",
              "      <td>1</td>\n",
              "      <td>0</td>\n",
              "    </tr>\n",
              "    <tr>\n",
              "      <th>2</th>\n",
              "      <td>3</td>\n",
              "      <td>TOYOTA Corolla 2.0 D4D HATCHB TERRA 2/3-Doors</td>\n",
              "      <td>13950</td>\n",
              "      <td>24</td>\n",
              "      <td>9</td>\n",
              "      <td>2002</td>\n",
              "      <td>41711</td>\n",
              "      <td>Diesel</td>\n",
              "      <td>90</td>\n",
              "      <td>1</td>\n",
              "      <td>Blue</td>\n",
              "      <td>0</td>\n",
              "      <td>2000</td>\n",
              "      <td>3</td>\n",
              "      <td>4</td>\n",
              "      <td>5</td>\n",
              "      <td>210</td>\n",
              "      <td>1165</td>\n",
              "      <td>1</td>\n",
              "      <td>1</td>\n",
              "      <td>3</td>\n",
              "      <td>1</td>\n",
              "      <td>1</td>\n",
              "      <td>1</td>\n",
              "      <td>0</td>\n",
              "      <td>0</td>\n",
              "      <td>1</td>\n",
              "      <td>0</td>\n",
              "      <td>0</td>\n",
              "      <td>0</td>\n",
              "      <td>1</td>\n",
              "      <td>0</td>\n",
              "      <td>0</td>\n",
              "      <td>0</td>\n",
              "      <td>1</td>\n",
              "      <td>0</td>\n",
              "      <td>0</td>\n",
              "      <td>0</td>\n",
              "      <td>0</td>\n",
              "      <td>0</td>\n",
              "      <td>1</td>\n",
              "      <td>0</td>\n",
              "    </tr>\n",
              "    <tr>\n",
              "      <th>3</th>\n",
              "      <td>4</td>\n",
              "      <td>TOYOTA Corolla 2.0 D4D HATCHB TERRA 2/3-Doors</td>\n",
              "      <td>14950</td>\n",
              "      <td>26</td>\n",
              "      <td>7</td>\n",
              "      <td>2002</td>\n",
              "      <td>48000</td>\n",
              "      <td>Diesel</td>\n",
              "      <td>90</td>\n",
              "      <td>0</td>\n",
              "      <td>Black</td>\n",
              "      <td>0</td>\n",
              "      <td>2000</td>\n",
              "      <td>3</td>\n",
              "      <td>4</td>\n",
              "      <td>5</td>\n",
              "      <td>210</td>\n",
              "      <td>1165</td>\n",
              "      <td>1</td>\n",
              "      <td>1</td>\n",
              "      <td>3</td>\n",
              "      <td>1</td>\n",
              "      <td>1</td>\n",
              "      <td>1</td>\n",
              "      <td>0</td>\n",
              "      <td>0</td>\n",
              "      <td>1</td>\n",
              "      <td>0</td>\n",
              "      <td>0</td>\n",
              "      <td>0</td>\n",
              "      <td>1</td>\n",
              "      <td>0</td>\n",
              "      <td>0</td>\n",
              "      <td>0</td>\n",
              "      <td>1</td>\n",
              "      <td>0</td>\n",
              "      <td>0</td>\n",
              "      <td>0</td>\n",
              "      <td>0</td>\n",
              "      <td>0</td>\n",
              "      <td>1</td>\n",
              "      <td>0</td>\n",
              "    </tr>\n",
              "    <tr>\n",
              "      <th>4</th>\n",
              "      <td>5</td>\n",
              "      <td>TOYOTA Corolla 2.0 D4D HATCHB SOL 2/3-Doors</td>\n",
              "      <td>13750</td>\n",
              "      <td>30</td>\n",
              "      <td>3</td>\n",
              "      <td>2002</td>\n",
              "      <td>38500</td>\n",
              "      <td>Diesel</td>\n",
              "      <td>90</td>\n",
              "      <td>0</td>\n",
              "      <td>Black</td>\n",
              "      <td>0</td>\n",
              "      <td>2000</td>\n",
              "      <td>3</td>\n",
              "      <td>4</td>\n",
              "      <td>5</td>\n",
              "      <td>210</td>\n",
              "      <td>1170</td>\n",
              "      <td>1</td>\n",
              "      <td>1</td>\n",
              "      <td>3</td>\n",
              "      <td>1</td>\n",
              "      <td>1</td>\n",
              "      <td>1</td>\n",
              "      <td>1</td>\n",
              "      <td>0</td>\n",
              "      <td>1</td>\n",
              "      <td>0</td>\n",
              "      <td>1</td>\n",
              "      <td>1</td>\n",
              "      <td>1</td>\n",
              "      <td>0</td>\n",
              "      <td>1</td>\n",
              "      <td>0</td>\n",
              "      <td>1</td>\n",
              "      <td>0</td>\n",
              "      <td>0</td>\n",
              "      <td>0</td>\n",
              "      <td>0</td>\n",
              "      <td>0</td>\n",
              "      <td>1</td>\n",
              "      <td>0</td>\n",
              "    </tr>\n",
              "  </tbody>\n",
              "</table>\n",
              "</div>"
            ],
            "text/plain": [
              "   Id  ... Fuel_Type_Petrol\n",
              "0   1  ...                0\n",
              "1   2  ...                0\n",
              "2   3  ...                0\n",
              "3   4  ...                0\n",
              "4   5  ...                0\n",
              "\n",
              "[5 rows x 42 columns]"
            ]
          },
          "metadata": {
            "tags": []
          },
          "execution_count": 157
        }
      ]
    },
    {
      "cell_type": "markdown",
      "metadata": {
        "id": "SCB3pOOBDwt0"
      },
      "source": [
        "# 3rd way is with LabelEncoder()\n",
        "\n",
        "---\n",
        "\n",
        "LableEncoder is the way to produce Binary to a 0–1 scale and convert categorical predictors to dummies. "
      ]
    },
    {
      "cell_type": "code",
      "metadata": {
        "colab": {
          "base_uri": "https://localhost:8080/"
        },
        "id": "J0j3pc2WjiLz",
        "outputId": "a3671e43-8f60-4d5f-c77e-9feb1e7a4d40"
      },
      "source": [
        "# 3rd way of creating dummy varible by using OneHotEncoder\n",
        "# Fuel column\n",
        "\n",
        "from sklearn.preprocessing import LabelEncoder, OneHotEncoder\n",
        "from sklearn.compose import ColumnTransformer, make_column_transformer\n",
        "\n",
        "labelencoder_X = LabelEncoder()\n",
        "X[:, 2] = labelencoder_X.fit_transform(X[:, 2])\n",
        "X[0,]\n"
      ],
      "execution_count": 158,
      "outputs": [
        {
          "output_type": "execute_result",
          "data": {
            "text/plain": [
              "array([23, 46986, 1, 90, 0, 3, 210, 0, 3, 0, 0, 0, 1, 0, 0], dtype=object)"
            ]
          },
          "metadata": {
            "tags": []
          },
          "execution_count": 158
        }
      ]
    },
    {
      "cell_type": "code",
      "metadata": {
        "id": "SnZUU9j1fYvs"
      },
      "source": [
        "# Splitting the dataset into the Training set and Test set\n",
        "from sklearn.model_selection import train_test_split\n",
        "X_train, X_test, Y_train, Y_test = train_test_split(X, Y, test_size = 0.2, random_state = None, shuffle = False)"
      ],
      "execution_count": 159,
      "outputs": []
    },
    {
      "cell_type": "markdown",
      "metadata": {
        "id": "qE9pQpP0bwHU"
      },
      "source": [
        "\n",
        "\n",
        "#Feature Scaling by using MinMaxScaler rescales the data set such that all feature values are in the range [0, 1]"
      ]
    },
    {
      "cell_type": "markdown",
      "metadata": {
        "id": "L1jU84nNnsEp"
      },
      "source": [
        "Another way to normalise is to use the Min Max Scaler, which changes all features to be between 0 and 1, as defined below:\n",
        "\n",
        "X_std = (X - X.min(axis=0)) / (X.max(axis=0) - X.min(axis=0))\n",
        "\n",
        "X_scaled = X_std * (max - min) + min\n"
      ]
    },
    {
      "cell_type": "code",
      "metadata": {
        "id": "inXhXYCifYs8"
      },
      "source": [
        "# Feature Scaling\n",
        "from sklearn.preprocessing import MinMaxScaler\n",
        "\n",
        "MMSX = MinMaxScaler()\n",
        "MMSY = MinMaxScaler()\n",
        "X_train = MMSX.fit_transform(X_train)\n",
        "X_test = MMSX.transform(X_test)\n",
        "Y_train = MMSY.fit_transform(Y_train.reshape(-1, 1))\n",
        "Y_train = Y_train.flatten() \n",
        "Y_test = MMSY.transform(Y_test.reshape(-1, 1))\n",
        "Y_test = Y_test.flatten() "
      ],
      "execution_count": 160,
      "outputs": []
    },
    {
      "cell_type": "code",
      "metadata": {
        "id": "p2VHeFnaOvlt",
        "colab": {
          "base_uri": "https://localhost:8080/"
        },
        "outputId": "6ee18bef-5743-46f6-d26e-3a753536354f"
      },
      "source": [
        "# ANN With One Hidden Layer With Two Nodes\n",
        "\n",
        "# Importing the Keras libraries and packages\n",
        "import keras\n",
        "from keras.models import Sequential\n",
        "from keras.layers import Dense\n",
        "\n",
        "# Initialising the ANN\n",
        "classifier = Sequential()\n",
        "\n",
        "# Adding the input layer and the first hidden layer\n",
        "classifier.add(Dense(units = 2, kernel_initializer = 'uniform', activation = 'relu', input_dim = 15))\n",
        "\n",
        "# Adding the output layer\n",
        "classifier.add(Dense(units = 1, kernel_initializer = 'uniform', activation = 'sigmoid'))\n",
        "\n",
        "# Compiling the ANN\n",
        "classifier.compile(optimizer = 'adam', loss = 'binary_crossentropy', metrics = ['accuracy'])\n",
        "\n",
        "# Fitting the ANN to the Training set\n",
        "classifier.fit(X_train, Y_train, batch_size = 10, epochs = 20)\n",
        "\n",
        "# Evaluate the ANN with test data\n",
        "classifier.summary()\n",
        "\n",
        "classifier.evaluate(X_test, Y_test)"
      ],
      "execution_count": 161,
      "outputs": [
        {
          "output_type": "stream",
          "text": [
            "Epoch 1/20\n",
            "115/115 [==============================] - 1s 1ms/step - loss: 0.6818 - accuracy: 0.0023\n",
            "Epoch 2/20\n",
            "115/115 [==============================] - 0s 1ms/step - loss: 0.6187 - accuracy: 4.4540e-04\n",
            "Epoch 3/20\n",
            "115/115 [==============================] - 0s 1ms/step - loss: 0.5778 - accuracy: 3.4043e-04\n",
            "Epoch 4/20\n",
            "115/115 [==============================] - 0s 1ms/step - loss: 0.5684 - accuracy: 8.2973e-04\n",
            "Epoch 5/20\n",
            "115/115 [==============================] - 0s 1ms/step - loss: 0.5630 - accuracy: 7.5553e-04\n",
            "Epoch 6/20\n",
            "115/115 [==============================] - 0s 1ms/step - loss: 0.5551 - accuracy: 2.5677e-04\n",
            "Epoch 7/20\n",
            "115/115 [==============================] - 0s 1ms/step - loss: 0.5394 - accuracy: 0.0019\n",
            "Epoch 8/20\n",
            "115/115 [==============================] - 0s 1ms/step - loss: 0.5424 - accuracy: 9.3801e-05\n",
            "Epoch 9/20\n",
            "115/115 [==============================] - 0s 1ms/step - loss: 0.5338 - accuracy: 3.5148e-04\n",
            "Epoch 10/20\n",
            "115/115 [==============================] - 0s 1ms/step - loss: 0.5317 - accuracy: 0.0013\n",
            "Epoch 11/20\n",
            "115/115 [==============================] - 0s 1ms/step - loss: 0.5294 - accuracy: 5.9393e-04\n",
            "Epoch 12/20\n",
            "115/115 [==============================] - 0s 1ms/step - loss: 0.5306 - accuracy: 3.5148e-04\n",
            "Epoch 13/20\n",
            "115/115 [==============================] - 0s 1ms/step - loss: 0.5309 - accuracy: 0.0024\n",
            "Epoch 14/20\n",
            "115/115 [==============================] - 0s 1ms/step - loss: 0.5301 - accuracy: 6.5499e-04\n",
            "Epoch 15/20\n",
            "115/115 [==============================] - 0s 1ms/step - loss: 0.5316 - accuracy: 1.1891e-04\n",
            "Epoch 16/20\n",
            "115/115 [==============================] - 0s 1ms/step - loss: 0.5302 - accuracy: 5.5082e-04\n",
            "Epoch 17/20\n",
            "115/115 [==============================] - 0s 1ms/step - loss: 0.5348 - accuracy: 3.7907e-05\n",
            "Epoch 18/20\n",
            "115/115 [==============================] - 0s 1ms/step - loss: 0.5314 - accuracy: 6.3931e-04\n",
            "Epoch 19/20\n",
            "115/115 [==============================] - 0s 1ms/step - loss: 0.5341 - accuracy: 1.0209e-04\n",
            "Epoch 20/20\n",
            "115/115 [==============================] - 0s 990us/step - loss: 0.5253 - accuracy: 6.8722e-04\n",
            "Model: \"sequential_1\"\n",
            "_________________________________________________________________\n",
            "Layer (type)                 Output Shape              Param #   \n",
            "=================================================================\n",
            "dense_3 (Dense)              (None, 2)                 32        \n",
            "_________________________________________________________________\n",
            "dense_4 (Dense)              (None, 1)                 3         \n",
            "=================================================================\n",
            "Total params: 35\n",
            "Trainable params: 35\n",
            "Non-trainable params: 0\n",
            "_________________________________________________________________\n",
            "9/9 [==============================] - 0s 1ms/step - loss: 0.3964 - accuracy: 0.0000e+00\n"
          ],
          "name": "stdout"
        },
        {
          "output_type": "execute_result",
          "data": {
            "text/plain": [
              "[0.39641740918159485, 0.0]"
            ]
          },
          "metadata": {
            "tags": []
          },
          "execution_count": 161
        }
      ]
    },
    {
      "cell_type": "code",
      "metadata": {
        "id": "6mlAh4Tme6RC",
        "colab": {
          "base_uri": "https://localhost:8080/"
        },
        "outputId": "e234c3d5-8e5a-4fb3-b5b8-804bcc8dbd0e"
      },
      "source": [
        "# Predicting the Test and Train set results\n",
        "Y_pred = classifier.predict(X_test)\n",
        "Y_pred_train = classifier.predict(X_train)\n",
        "\n",
        "# In[9]:\n",
        "# Calculate Root Mean Square Error\n",
        "from sklearn.metrics import mean_squared_error\n",
        "from math import sqrt\n",
        "\n",
        "rms = sqrt(mean_squared_error(Y_test, Y_pred))\n",
        "print(\"RMS Error for Validation Data is: \", rms)\n",
        "\n",
        "rms = sqrt(mean_squared_error(Y_train, Y_pred_train))\n",
        "print(\"RMS Error for Training Data is: \", rms)\n"
      ],
      "execution_count": 162,
      "outputs": [
        {
          "output_type": "stream",
          "text": [
            "RMS Error for Validation Data is:  0.04395252407516263\n",
            "RMS Error for Training Data is:  0.06301944529403382\n"
          ],
          "name": "stdout"
        }
      ]
    },
    {
      "cell_type": "code",
      "metadata": {
        "id": "s-5L1iR-LHyU",
        "colab": {
          "base_uri": "https://localhost:8080/"
        },
        "outputId": "48f31001-7279-45b5-a4fe-ea6b89df0c5b"
      },
      "source": [
        "# ANN With One Hidden Layer with 5 Nodes\n",
        "\n",
        "# Importing the Keras libraries and packages\n",
        "import keras\n",
        "from keras.models import Sequential\n",
        "from keras.layers import Dense\n",
        "\n",
        "# Initialising the ANN\n",
        "classifier = Sequential()\n",
        "\n",
        "# Adding the input layer and the first hidden layer\n",
        "classifier.add(Dense(units = 5, kernel_initializer = 'uniform', activation = 'relu', input_dim = 15))\n",
        "\n",
        "# Adding the output layer\n",
        "classifier.add(Dense(units = 1, kernel_initializer = 'uniform', activation = 'sigmoid'))\n",
        "\n",
        "# Compiling the ANN\n",
        "classifier.compile(optimizer = 'adam', loss = 'binary_crossentropy', metrics = ['accuracy'])\n",
        "\n",
        "# Fitting the ANN to the Training set\n",
        "classifier.fit(X_train, Y_train, batch_size = 10, epochs = 20)\n",
        "\n",
        "# Evaluate the ANN with test data\n",
        "classifier.summary()\n",
        "\n",
        "classifier.evaluate(X_test, Y_test)"
      ],
      "execution_count": 163,
      "outputs": [
        {
          "output_type": "stream",
          "text": [
            "Epoch 1/20\n",
            "115/115 [==============================] - 1s 1ms/step - loss: 0.6762 - accuracy: 0.0023\n",
            "Epoch 2/20\n",
            "115/115 [==============================] - 0s 1ms/step - loss: 0.5735 - accuracy: 4.4540e-04\n",
            "Epoch 3/20\n",
            "115/115 [==============================] - 0s 1ms/step - loss: 0.5545 - accuracy: 3.4043e-04\n",
            "Epoch 4/20\n",
            "115/115 [==============================] - 0s 1ms/step - loss: 0.5420 - accuracy: 8.2973e-04\n",
            "Epoch 5/20\n",
            "115/115 [==============================] - 0s 1ms/step - loss: 0.5368 - accuracy: 7.5553e-04\n",
            "Epoch 6/20\n",
            "115/115 [==============================] - 0s 1ms/step - loss: 0.5292 - accuracy: 2.5677e-04\n",
            "Epoch 7/20\n",
            "115/115 [==============================] - 0s 1ms/step - loss: 0.5202 - accuracy: 0.0019\n",
            "Epoch 8/20\n",
            "115/115 [==============================] - 0s 1ms/step - loss: 0.5270 - accuracy: 9.3801e-05\n",
            "Epoch 9/20\n",
            "115/115 [==============================] - 0s 1ms/step - loss: 0.5220 - accuracy: 3.5148e-04\n",
            "Epoch 10/20\n",
            "115/115 [==============================] - 0s 1ms/step - loss: 0.5214 - accuracy: 0.0013\n",
            "Epoch 11/20\n",
            "115/115 [==============================] - 0s 1ms/step - loss: 0.5213 - accuracy: 5.9393e-04\n",
            "Epoch 12/20\n",
            "115/115 [==============================] - 0s 1ms/step - loss: 0.5240 - accuracy: 3.5148e-04\n",
            "Epoch 13/20\n",
            "115/115 [==============================] - 0s 1ms/step - loss: 0.5235 - accuracy: 0.0024\n",
            "Epoch 14/20\n",
            "115/115 [==============================] - 0s 1ms/step - loss: 0.5235 - accuracy: 6.5499e-04\n",
            "Epoch 15/20\n",
            "115/115 [==============================] - 0s 1ms/step - loss: 0.5261 - accuracy: 1.1891e-04\n",
            "Epoch 16/20\n",
            "115/115 [==============================] - 0s 1ms/step - loss: 0.5256 - accuracy: 0.0013\n",
            "Epoch 17/20\n",
            "115/115 [==============================] - 0s 1ms/step - loss: 0.5305 - accuracy: 3.6742e-04\n",
            "Epoch 18/20\n",
            "115/115 [==============================] - 0s 1ms/step - loss: 0.5263 - accuracy: 0.0013\n",
            "Epoch 19/20\n",
            "115/115 [==============================] - 0s 1ms/step - loss: 0.5301 - accuracy: 0.0023\n",
            "Epoch 20/20\n",
            "115/115 [==============================] - 0s 1ms/step - loss: 0.5216 - accuracy: 9.0501e-04\n",
            "Model: \"sequential_2\"\n",
            "_________________________________________________________________\n",
            "Layer (type)                 Output Shape              Param #   \n",
            "=================================================================\n",
            "dense_5 (Dense)              (None, 5)                 80        \n",
            "_________________________________________________________________\n",
            "dense_6 (Dense)              (None, 1)                 6         \n",
            "=================================================================\n",
            "Total params: 86\n",
            "Trainable params: 86\n",
            "Non-trainable params: 0\n",
            "_________________________________________________________________\n",
            "9/9 [==============================] - 0s 1ms/step - loss: 0.3940 - accuracy: 0.0000e+00\n"
          ],
          "name": "stdout"
        },
        {
          "output_type": "execute_result",
          "data": {
            "text/plain": [
              "[0.39395201206207275, 0.0]"
            ]
          },
          "metadata": {
            "tags": []
          },
          "execution_count": 163
        }
      ]
    },
    {
      "cell_type": "code",
      "metadata": {
        "id": "JQydT_VfLRyr",
        "colab": {
          "base_uri": "https://localhost:8080/"
        },
        "outputId": "4143e5d4-5680-42c4-cc75-75d3cc6e3d2e"
      },
      "source": [
        "# Predicting the Test and Train set results\n",
        "Y_pred = classifier.predict(X_test)\n",
        "Y_pred_train = classifier.predict(X_train)\n",
        "\n",
        "# In[9]:\n",
        "# Calculate Root Mean Square Error\n",
        "from sklearn.metrics import mean_squared_error\n",
        "from math import sqrt\n",
        "\n",
        "rms = sqrt(mean_squared_error(Y_test, Y_pred))\n",
        "print(\"RMS Error for Validation Data is: \", rms)\n",
        "\n",
        "rms = sqrt(mean_squared_error(Y_train, Y_pred_train))\n",
        "print(\"RMS Error for Training Data is: \", rms)"
      ],
      "execution_count": 164,
      "outputs": [
        {
          "output_type": "stream",
          "text": [
            "RMS Error for Validation Data is:  0.03483359477908263\n",
            "RMS Error for Training Data is:  0.05042778547240898\n"
          ],
          "name": "stdout"
        }
      ]
    },
    {
      "cell_type": "code",
      "metadata": {
        "id": "0CQ0wQsCe5-X",
        "colab": {
          "base_uri": "https://localhost:8080/"
        },
        "outputId": "57e0dced-9c66-4221-f35a-0870f13e07d9"
      },
      "source": [
        "# ANN With two Hidden Layers with 5 Nodes\n",
        "\n",
        "# Importing the Keras libraries and packages\n",
        "import keras\n",
        "from keras.models import Sequential\n",
        "from keras.layers import Dense\n",
        "\n",
        "# Initialising the ANN\n",
        "classifier = Sequential()\n",
        "\n",
        "# Adding the input layer and the first hidden layer\n",
        "classifier.add(Dense(units = 5, kernel_initializer = 'uniform', activation = 'relu', input_dim = 15))\n",
        "\n",
        "#Adding the second hidden layer\n",
        "classifier.add(Dense(units = 5, kernel_initializer = 'uniform', activation = 'relu'))\n",
        "\n",
        "# Adding the output layer\n",
        "classifier.add(Dense(units = 1, kernel_initializer = 'uniform', activation = 'linear'))\n",
        "\n",
        "# Compiling the ANN\n",
        "classifier.compile(optimizer = 'adam', loss = 'mse', metrics = ['mae'])\n",
        "\n",
        "# Fitting the ANN to the Training set\n",
        "classifier.fit(X_train, Y_train, batch_size = 10, epochs = 20)\n",
        "\n",
        "# Evaluate the ANN with test data\n",
        "classifier.summary()\n",
        "\n",
        "classifier.evaluate(X_test, Y_test)"
      ],
      "execution_count": 165,
      "outputs": [
        {
          "output_type": "stream",
          "text": [
            "Epoch 1/20\n",
            "115/115 [==============================] - 0s 1ms/step - loss: 0.0582 - mae: 0.2044\n",
            "Epoch 2/20\n",
            "115/115 [==============================] - 0s 1ms/step - loss: 0.0127 - mae: 0.0833\n",
            "Epoch 3/20\n",
            "115/115 [==============================] - 0s 1ms/step - loss: 0.0098 - mae: 0.0753\n",
            "Epoch 4/20\n",
            "115/115 [==============================] - 0s 1ms/step - loss: 0.0078 - mae: 0.0654\n",
            "Epoch 5/20\n",
            "115/115 [==============================] - 0s 1ms/step - loss: 0.0065 - mae: 0.0574\n",
            "Epoch 6/20\n",
            "115/115 [==============================] - 0s 1ms/step - loss: 0.0049 - mae: 0.0517\n",
            "Epoch 7/20\n",
            "115/115 [==============================] - 0s 1ms/step - loss: 0.0040 - mae: 0.0466\n",
            "Epoch 8/20\n",
            "115/115 [==============================] - 0s 1ms/step - loss: 0.0033 - mae: 0.0434\n",
            "Epoch 9/20\n",
            "115/115 [==============================] - 0s 1ms/step - loss: 0.0033 - mae: 0.0409\n",
            "Epoch 10/20\n",
            "115/115 [==============================] - 0s 1ms/step - loss: 0.0032 - mae: 0.0414\n",
            "Epoch 11/20\n",
            "115/115 [==============================] - 0s 1ms/step - loss: 0.0026 - mae: 0.0387\n",
            "Epoch 12/20\n",
            "115/115 [==============================] - 0s 1ms/step - loss: 0.0022 - mae: 0.0358\n",
            "Epoch 13/20\n",
            "115/115 [==============================] - 0s 1ms/step - loss: 0.0025 - mae: 0.0394\n",
            "Epoch 14/20\n",
            "115/115 [==============================] - 0s 1ms/step - loss: 0.0023 - mae: 0.0362\n",
            "Epoch 15/20\n",
            "115/115 [==============================] - 0s 1ms/step - loss: 0.0020 - mae: 0.0348\n",
            "Epoch 16/20\n",
            "115/115 [==============================] - 0s 1ms/step - loss: 0.0019 - mae: 0.0325\n",
            "Epoch 17/20\n",
            "115/115 [==============================] - 0s 1ms/step - loss: 0.0020 - mae: 0.0339\n",
            "Epoch 18/20\n",
            "115/115 [==============================] - 0s 1ms/step - loss: 0.0018 - mae: 0.0322\n",
            "Epoch 19/20\n",
            "115/115 [==============================] - 0s 1ms/step - loss: 0.0018 - mae: 0.0322\n",
            "Epoch 20/20\n",
            "115/115 [==============================] - 0s 1ms/step - loss: 0.0016 - mae: 0.0307\n",
            "Model: \"sequential_3\"\n",
            "_________________________________________________________________\n",
            "Layer (type)                 Output Shape              Param #   \n",
            "=================================================================\n",
            "dense_7 (Dense)              (None, 5)                 80        \n",
            "_________________________________________________________________\n",
            "dense_8 (Dense)              (None, 5)                 30        \n",
            "_________________________________________________________________\n",
            "dense_9 (Dense)              (None, 1)                 6         \n",
            "=================================================================\n",
            "Total params: 116\n",
            "Trainable params: 116\n",
            "Non-trainable params: 0\n",
            "_________________________________________________________________\n",
            "9/9 [==============================] - 0s 1ms/step - loss: 0.0014 - mae: 0.0301\n"
          ],
          "name": "stdout"
        },
        {
          "output_type": "execute_result",
          "data": {
            "text/plain": [
              "[0.0013541653752326965, 0.030067630112171173]"
            ]
          },
          "metadata": {
            "tags": []
          },
          "execution_count": 165
        }
      ]
    },
    {
      "cell_type": "code",
      "metadata": {
        "id": "1o7MxsWve5ok",
        "colab": {
          "base_uri": "https://localhost:8080/"
        },
        "outputId": "264941d0-73a7-48bc-82af-ede1cee7cfaa"
      },
      "source": [
        "# Predicting the Test and Train set results\n",
        "Y_pred = classifier.predict(X_test)\n",
        "Y_pred_train = classifier.predict(X_train)\n",
        "\n",
        "# In[9]:\n",
        "# Calculate Root Mean Square Error\n",
        "from sklearn.metrics import mean_squared_error\n",
        "from math import sqrt\n",
        "\n",
        "rms = sqrt(mean_squared_error(Y_test, Y_pred))\n",
        "print(\"RMS Error for Validation Data is: \", rms)\n",
        "\n",
        "rms = sqrt(mean_squared_error(Y_train, Y_pred_train))\n",
        "print(\"RMS Error for Training Data is: \", rms)"
      ],
      "execution_count": 166,
      "outputs": [
        {
          "output_type": "stream",
          "text": [
            "RMS Error for Validation Data is:  0.03679898489630274\n",
            "RMS Error for Training Data is:  0.040914408960446444\n"
          ],
          "name": "stdout"
        }
      ]
    },
    {
      "cell_type": "code",
      "metadata": {
        "colab": {
          "base_uri": "https://localhost:8080/"
        },
        "id": "ZuLkozwW2zkv",
        "outputId": "b4afc40b-e569-460e-f6bf-5c2e9300abfe"
      },
      "source": [
        "# Some Manual testing\n",
        "\n",
        "\n",
        "RN100 = np.array([[11,\t24500,\t2,\t110,\t0,\t3,\t85,\t    0,\t3,\t1,\t1,\t0,\t1,\t1,\t0]])\n",
        "RN111 = np.array([[4,\t   1,\t1,\t116,\t0,\t5,\t283,\t1,\t3,\t1,\t1,\t0,\t1,\t1,\t0]])\n",
        "\n",
        "price_R100  = MMSX.transform(RN100) \n",
        "price_R111  = MMSX.transform(RN111) \n",
        "\n",
        "\n",
        "predicted_RN100 = MMSY.inverse_transform(classifier.predict(price_R100))\n",
        "predicted_RN111 = MMSY.inverse_transform(classifier.predict(price_R111))\n",
        "\n",
        "\n",
        "print(\"Actual Price of Row no. 100 = $18750\")\n",
        "print(\"Predicted Price = \" ,predicted_RN100 )\n",
        "print(\"\")\n",
        "\n",
        "print(\"Actual Price of Row no. 111 = $32500\")\n",
        "print(\"Predicted Price = \" ,predicted_RN111 )"
      ],
      "execution_count": 172,
      "outputs": [
        {
          "output_type": "stream",
          "text": [
            "Actual Price of Row no. 100 = $18750\n",
            "Predicted Price =  [[20204.9]]\n",
            "\n",
            "Actual Price of Row no. 111 = $32500\n",
            "Predicted Price =  [[27767.45]]\n"
          ],
          "name": "stdout"
        }
      ]
    },
    {
      "cell_type": "code",
      "metadata": {
        "id": "N69z5noF4klc"
      },
      "source": [
        ""
      ],
      "execution_count": null,
      "outputs": []
    }
  ]
}